{
 "cells": [
  {
   "cell_type": "markdown",
   "metadata": {},
   "source": [
    "# BDT Model Training and Plotting"
   ]
  },
  {
   "cell_type": "markdown",
   "metadata": {},
   "source": [
    "This notebook (named Chemex, a type of coffeemaker that can also be used to brew tea) combines code from multiple sources in mvatrain (feature_preservation.py, performance_report.py) as well as outside mvatrain (FireHydrant and decaf) to blend training data for BDT models,  and then evaluate those models."
   ]
  },
  {
   "cell_type": "markdown",
   "metadata": {},
   "source": [
    "## Dependencies and Directories"
   ]
  },
  {
   "cell_type": "markdown",
   "metadata": {},
   "source": [
    "Import dependencies:"
   ]
  },
  {
   "cell_type": "code",
   "execution_count": 1,
   "metadata": {},
   "outputs": [],
   "source": [
    "%matplotlib inline\n",
    "import os\n",
    "import time\n",
    "import json\n",
    "import uproot\n",
    "import awkward\n",
    "import graphviz\n",
    "import xgboost as xgb\n",
    "import pandas as pd\n",
    "import numpy as np\n",
    "import utils.histoHelpers as uhh\n",
    "import utils.uprootHelpers as uuh\n",
    "import mvatrain.preprocessors as mpp\n",
    "import matplotlib.pyplot as plt\n",
    "import coffea.processor as processor\n",
    "from mvatrain.metfilter import *\n",
    "from awkward import JaggedArray\n",
    "from os.path import join\n",
    "from coffea import hist\n",
    "from coffea.analysis_objects import JaggedCandidateArray\n",
    "from coffea.processor import defaultdict_accumulator\n",
    "from sklearn.metrics import accuracy_score, roc_auc_score, classification_report\n",
    "from sklearn.model_selection import train_test_split\n",
    "from sklearn.metrics import roc_curve\n",
    "from mvatrain.ROCPlot import ROCPlot\n",
    "from mvatrain.hist_errorbars import hist_errorbars\n",
    "from FireHydrant.Tools.uproothelpers import NestNestObjArrayToJagged\n",
    "from FireHydrant.Tools.trigger import Triggers\n",
    "from FireHydrant.Tools.metfilter import MetFilters"
   ]
  },
  {
   "cell_type": "markdown",
   "metadata": {},
   "source": [
    "Set time strings and directories. TIME_STR and COMBODATA_PATH leads to the combined signal/background dataset. SIGDATA_PATH/BKGDATA_PATH lead to the separated background and signal samples. DATA_DIR is the general data folder for training and sampling. OUTPUT_DIR is the directory with the model. TIME_STR5 is the most recent timestamp, and REPORT_DIR is the directory to dump plots and reports into."
   ]
  },
  {
   "cell_type": "markdown",
   "metadata": {},
   "source": [
    "There are multiple models that have been trained with varying training samples and iterations:\n",
    "\n",
    "**earl_grey** was given the total combo blend of training samples (background + 4mu signal + 2mu2e signal), but trained for a shorter amount of time with fewer iterations.\n",
    "\n",
    "**earl_grey_strong** was also given the total combo blend of training samples, but trained for a longer amount of time with more iterations.\n",
    "\n",
    "**english_breakfast** was trained on the 4mu blend (background + 4mu signal), and trained for the longer amount of time.\n",
    "\n",
    "**irish_breakfast** was trained on the electron blend (background + signal matched to dark photon and electron), and trained for the longer amount of time.\n",
    "\n",
    "The **redux** version of each model refers to the models that have been trained using fixed data (fixing the maxd0 and mind0 calculations in feature_preservation.py). The old models that were trained on the incorrect data are under the **OUTDATED** folder."
   ]
  },
  {
   "cell_type": "code",
   "execution_count": 11,
   "metadata": {},
   "outputs": [],
   "source": [
    "TIME_STR_CURRENT = \"190812\"\n",
    "BKGDATA_PATH = join(os.environ[\"FFANA_BASE\"], f\"mvatrain/data/bkg_{TIME_STR_CURRENT}.awkd\") #background only\n",
    "SIGDATA_PATH = join(os.environ[\"FFANA_BASE\"], f\"mvatrain/data/signal_{TIME_STR_CURRENT}.awkd\") #signal only\n",
    "COMBODATA_PATH = join(os.environ[\"FFANA_BASE\"], f\"mvatrain/data/combo_{TIME_STR_CURRENT}.awkd\") #combo background and signal\n",
    "DATA_DIR = join(os.environ[\"FFANA_BASE\"], f\"mvatrain/data\") #data for training\n",
    "OUTPUT_DIR = join(os.environ[\"FFANA_BASE\"], f\"mvatrain/outputs/OUTDATED/earl_grey_strong\")  #model\n",
    "REPORT_DIR = join(os.environ[\"FFANA_BASE\"], f\"mvatrain/reports/{TIME_STR_CURRENT}_2\") #reports and plots"
   ]
  },
  {
   "cell_type": "markdown",
   "metadata": {},
   "source": [
    "Load in the model:"
   ]
  },
  {
   "cell_type": "code",
   "execution_count": 12,
   "metadata": {},
   "outputs": [
    {
     "name": "stdout",
     "output_type": "stream",
     "text": [
      "loading model...\n",
      "model loaded.\n"
     ]
    }
   ],
   "source": [
    "print(\"loading model...\")\n",
    "xgbm_default = xgb.Booster({\"nthread\": 16})\n",
    "xgbm_default.load_model(join(OUTPUT_DIR, \"model_default/model.bin\"))\n",
    "xgbm_optimized = xgb.Booster({\"nthread\": 16})\n",
    "xgbm_optimized.load_model(join(OUTPUT_DIR, \"model_optimized/model.bin\"))\n",
    "print(\"model loaded.\")"
   ]
  },
  {
   "cell_type": "markdown",
   "metadata": {},
   "source": [
    "## Blend training data from a .json file"
   ]
  },
  {
   "cell_type": "markdown",
   "metadata": {},
   "source": [
    "In order to be able to separate signal samples into 2mu2e and 4mu categories (though this can be done directly in feature_preservation.py as well), as well as separate background into its separate samples, we load in filepaths from the 2018.json file:"
   ]
  },
  {
   "cell_type": "code",
   "execution_count": 12,
   "metadata": {},
   "outputs": [
    {
     "name": "stdout",
     "output_type": "stream",
     "text": [
      "Getting background files from .json...\n",
      "Getting signal files from .json...\n",
      "Files gotten!\n"
     ]
    }
   ],
   "source": [
    "print(\"Getting background files from .json...\")\n",
    "datasets_ = json.load(open('2018.json'))\n",
    "bkgdatasets = {}\n",
    "for group in datasets_.keys():\n",
    "    if 'DoubleMuon' in group: continue #not data\n",
    "    if 'CRAB_PrivateMC' in group: continue #not signal\n",
    "    files = datasets_[group]['files']\n",
    "    bkgdatasets[group] = [files] #normal background\n",
    "            \n",
    "print(\"Getting signal files from .json...\")\n",
    "datasets_ = json.load(open('2018.json'))\n",
    "sigdatasets = []\n",
    "for group in datasets_.keys():\n",
    "    if not ('CRAB_PrivateMC' in group): continue #not data or background\n",
    "    files = datasets_[group]['files']\n",
    "    for file in files: sigdatasets.append(file)\n",
    "    \n",
    "print(\"Files gotten!\")"
   ]
  },
  {
   "cell_type": "markdown",
   "metadata": {},
   "source": [
    "Separate the signal files into 2mu2e and 4mu groups:"
   ]
  },
  {
   "cell_type": "code",
   "execution_count": 13,
   "metadata": {},
   "outputs": [],
   "source": [
    "lssig4mu = []\n",
    "lssig2mu2e = []\n",
    "\n",
    "for path in sigdatasets:\n",
    "    if '4Mu' in path:\n",
    "        lssig4mu.append(path)\n",
    "    else:\n",
    "        lssig2mu2e.append(path)"
   ]
  },
  {
   "cell_type": "markdown",
   "metadata": {},
   "source": [
    "Take some separated subsets, separated by representative extreme mass points, for consideration:"
   ]
  },
  {
   "cell_type": "code",
   "execution_count": 44,
   "metadata": {},
   "outputs": [],
   "source": [
    "sig2mu2ephotonmass = []\n",
    "sig2mu2ephotonmass = []\n",
    "\n",
    "for path in sig2mu2e:\n",
    "    if ('MBs-100' in path) and ('MBs-1000' not in path) and ('MDp-5' in path):\n",
    "        sig2mu2ehighphotonmass.append(path)\n",
    "    elif ('MBs-1000' in path) and ('MDp-0p25' in path):\n",
    "        sig2mu2elowphotonmass.append(path)"
   ]
  },
  {
   "cell_type": "code",
   "execution_count": 46,
   "metadata": {},
   "outputs": [],
   "source": [
    "sig2mu2ehighmidphotonmass = []\n",
    "sig2mu2elowmidphotonmass = []\n",
    "\n",
    "for path in sig2mu2e:\n",
    "    if ('MBs-200' in path) and ('MDp-2p5' in path):\n",
    "        sig2mu2ehighmidphotonmass.append(path)\n",
    "    elif ('MBs-500' in path) and ('MDp-0p8' in path):\n",
    "        sig2mu2elowmidphotonmass.append(path)"
   ]
  },
  {
   "cell_type": "markdown",
   "metadata": {},
   "source": [
    "Separate the list of background files into each type of background:"
   ]
  },
  {
   "cell_type": "code",
   "execution_count": 21,
   "metadata": {},
   "outputs": [],
   "source": [
    "DYJets = []\n",
    "Diboson = []\n",
    "QCD = []\n",
    "TTJets = []\n",
    "Triboson = []\n",
    "\n",
    "for group in datasets_.keys():\n",
    "    if 'DoubleMuon' in group: continue\n",
    "    if 'CRAB_PrivateMC' in group: continue\n",
    "    for path in bkgdatasets[group][0]:\n",
    "        if 'DYJets' in group:\n",
    "            DYJets.append(path)\n",
    "        elif 'TTJets' in group:\n",
    "            TTJets.append(path)\n",
    "        elif 'QCD' in group:\n",
    "            QCD.append(path)\n",
    "        elif ('WGG' in group) or ('WWG' in group) or ('WWW' in group) or ('WWZ' in group) or ('WZG' in group) or ('WZZ' in group) or ('ZZZ' in group):\n",
    "            Triboson.append(path)\n",
    "        elif ('WW' or 'WZ' or 'ZZ' in group):\n",
    "            Diboson.append(path)"
   ]
  },
  {
   "cell_type": "markdown",
   "metadata": {},
   "source": [
    "This next section is taken from feature_preservation.py, and sets up some methods and variables so we can read the filepaths from 2018.json into awkward files:"
   ]
  },
  {
   "cell_type": "code",
   "execution_count": 7,
   "metadata": {},
   "outputs": [],
   "source": [
    "def match(obj):\n",
    "    t = obj.tree\n",
    "    genp4 = uuh.p4Array(t[\"gen_p4\"])\n",
    "    mDarkPhoton = t[\"gen_pid\"].array() == 32\n",
    "    mElectron = np.abs(t[\"gen2_pid\"].array()) == 11\n",
    "    jetp4 = uuh.p4Array(t[\"pfjet_p4\"])\n",
    "    mGendpMatch, mJetMatch = uuh.MaskArraysFromMatching(genp4[mDarkPhoton][mElectron], jetp4)\n",
    "    res = mJetMatch[obj.mHLT].flatten()\n",
    "    return res\n",
    "\n",
    "\n",
    "def pt(obj):\n",
    "    t = obj.tree\n",
    "    return uuh.p4Array(t[\"pfjet_p4\"])[obj.mHLT].pt.flatten()\n",
    "\n",
    "\n",
    "def eta(obj):\n",
    "    t = obj.tree\n",
    "    return uuh.p4Array(t[\"pfjet_p4\"])[obj.mHLT].eta.flatten()\n",
    "\n",
    "\n",
    "def neutralEnergyFrac(obj):\n",
    "    t = obj.tree\n",
    "    jetp4 = uuh.p4Array(t[\"pfjet_p4\"])\n",
    "    _res = (\n",
    "        t[\"pfjet_neutralEmE\"].array() + t[\"pfjet_neutralHadronE\"].array()\n",
    "    ) / jetp4.energy\n",
    "    return _res[obj.mHLT].flatten()\n",
    "\n",
    "\n",
    "def pickExtreme(ja, maxmin):\n",
    "    if ja.size == 0:\n",
    "        return np.array([])\n",
    "    if maxmin == \"max\":\n",
    "        return np.array([max(x) if x.size else np.nan for x in ja])\n",
    "    if maxmin == \"min\":\n",
    "        return np.array([min(x) if x.size else np.nan for x in ja])\n",
    "    return np.array([])\n",
    "\n",
    "\n",
    "def maxd0(obj):\n",
    "    t = obj.tree\n",
    "    candTkd0 = np.abs(uuh.NestNestObjArrayToJagged(t[\"pfjet_pfcand_tkD0\"].array())[\n",
    "        obj.mHLT\n",
    "    ].flatten())\n",
    "    return pickExtreme(candTkd0, \"max\")\n",
    "\n",
    "\n",
    "def mind0(obj):\n",
    "    t = obj.tree\n",
    "    candTkd0 = np.abs(uuh.NestNestObjArrayToJagged(t[\"pfjet_pfcand_tkD0\"].array())[\n",
    "        obj.mHLT\n",
    "    ].flatten())\n",
    "    return pickExtreme(candTkd0, \"min\")\n",
    "\n",
    "\n",
    "def n_muon(obj):\n",
    "    t = obj.tree\n",
    "    candType = uuh.NestNestObjArrayToJagged(t[\"pfjet_pfcand_type\"].array())[\n",
    "        obj.mHLT\n",
    "    ].flatten()\n",
    "    return (np.abs(candType) == 3).sum()\n",
    "\n",
    "\n",
    "def n_dsa(obj):\n",
    "    t = obj.tree\n",
    "    candType = uuh.NestNestObjArrayToJagged(t[\"pfjet_pfcand_type\"].array())[\n",
    "        obj.mHLT\n",
    "    ].flatten()\n",
    "    return (np.abs(candType) == 8).sum()\n",
    "\n",
    "\n",
    "def n_electron(obj):\n",
    "    t = obj.tree\n",
    "    candType = uuh.NestNestObjArrayToJagged(t[\"pfjet_pfcand_type\"].array())[\n",
    "        obj.mHLT\n",
    "    ].flatten()\n",
    "    return (np.abs(candType) == 2).sum()\n",
    "\n",
    "\n",
    "def n_photon(obj):\n",
    "    t = obj.tree\n",
    "    candType = uuh.NestNestObjArrayToJagged(t[\"pfjet_pfcand_type\"].array())[\n",
    "        obj.mHLT\n",
    "    ].flatten()\n",
    "    return (np.abs(candType) == 4).sum()\n",
    "\n",
    "\n",
    "def energy_muon(obj):\n",
    "    t = obj.tree\n",
    "    candType = uuh.NestNestObjArrayToJagged(t[\"pfjet_pfcand_type\"].array())[\n",
    "        obj.mHLT\n",
    "    ].flatten()\n",
    "    candEnergy = uuh.NestNestObjArrayToJagged(t[\"pfjet_pfcand_energy\"].array())[\n",
    "        obj.mHLT\n",
    "    ].flatten()\n",
    "\n",
    "    return candEnergy[np.abs(candType) == 3].sum()\n",
    "\n",
    "\n",
    "def energy_dsa(obj):\n",
    "    t = obj.tree\n",
    "    candType = uuh.NestNestObjArrayToJagged(t[\"pfjet_pfcand_type\"].array())[\n",
    "        obj.mHLT\n",
    "    ].flatten()\n",
    "    candEnergy = uuh.NestNestObjArrayToJagged(t[\"pfjet_pfcand_energy\"].array())[\n",
    "        obj.mHLT\n",
    "    ].flatten()\n",
    "\n",
    "    return candEnergy[np.abs(candType) == 8].sum()\n",
    "\n",
    "\n",
    "def energy_electron(obj):\n",
    "    t = obj.tree\n",
    "    candType = uuh.NestNestObjArrayToJagged(t[\"pfjet_pfcand_type\"].array())[\n",
    "        obj.mHLT\n",
    "    ].flatten()\n",
    "    candEnergy = uuh.NestNestObjArrayToJagged(t[\"pfjet_pfcand_energy\"].array())[\n",
    "        obj.mHLT\n",
    "    ].flatten()\n",
    "\n",
    "    return candEnergy[np.abs(candType) == 2].sum()\n",
    "\n",
    "\n",
    "def energy_photon(obj):\n",
    "    t = obj.tree\n",
    "    candType = uuh.NestNestObjArrayToJagged(t[\"pfjet_pfcand_type\"].array())[\n",
    "        obj.mHLT\n",
    "    ].flatten()\n",
    "    candEnergy = uuh.NestNestObjArrayToJagged(t[\"pfjet_pfcand_energy\"].array())[\n",
    "        obj.mHLT\n",
    "    ].flatten()\n",
    "\n",
    "    return candEnergy[np.abs(candType) == 4].sum()\n",
    "\n",
    "\n",
    "def tkiso(obj):\n",
    "    return obj.tree[\"pfjet_tkIsolation05\"].array()[obj.mHLT].flatten()\n",
    "\n",
    "\n",
    "def pfiso(obj):\n",
    "    return obj.tree[\"pfjet_pfIsolation05\"].array()[obj.mHLT].flatten()\n",
    "\n",
    "\n",
    "def ptspread(obj):\n",
    "    return obj.tree[\"pfjet_ptDistribution\"].array()[obj.mHLT].flatten()\n",
    "\n",
    "\n",
    "def drspread(obj):\n",
    "    return obj.tree[\"pfjet_dRSpread\"].array()[obj.mHLT].flatten()\n",
    "\n",
    "\n",
    "def jetsub_lambda(obj):\n",
    "    return obj.tree[\"pfjet_subjet_lambda\"].array()[obj.mHLT].flatten()\n",
    "\n",
    "\n",
    "def jetsub_epsilon(obj):\n",
    "    return obj.tree[\"pfjet_subjet_epsilon\"].array()[obj.mHLT].flatten()\n",
    "\n",
    "\n",
    "def ecf1(obj):\n",
    "    return obj.tree[\"pfjet_subjet_ecf1\"].array()[obj.mHLT].flatten()\n",
    "\n",
    "\n",
    "def ecf2(obj):\n",
    "    return obj.tree[\"pfjet_subjet_ecf2\"].array()[obj.mHLT].flatten()\n",
    "\n",
    "\n",
    "def ecf3(obj):\n",
    "    return obj.tree[\"pfjet_subjet_ecf3\"].array()[obj.mHLT].flatten()\n",
    "\n",
    "\n",
    "# -----------------------------------------------------------------------------\n",
    "\n",
    "\n",
    "_pm = {\n",
    "    \"target\": match,\n",
    "    \"pt\": pt,\n",
    "    \"eta\": eta,\n",
    "    \"neufrac\": neutralEnergyFrac,\n",
    "    \"maxd0\": maxd0,\n",
    "    \"mind0\": mind0,\n",
    "    # \"nmuo\": n_muon,\n",
    "    # \"ndsa\": n_dsa,\n",
    "    # \"nele\": n_electron,\n",
    "    # \"npho\": n_photon,\n",
    "    # \"energymuo\": energy_muon,\n",
    "    # \"energydsa\": energy_dsa,\n",
    "    # \"energyele\": energy_electron,\n",
    "    # \"energypho\": energy_photon,\n",
    "    \"tkiso\": tkiso,\n",
    "    \"pfiso\": pfiso,\n",
    "    \"spreadpt\": ptspread,\n",
    "    \"spreaddr\": drspread,\n",
    "    \"lambda\": jetsub_lambda,\n",
    "    \"epsilon\": jetsub_epsilon,\n",
    "    \"ecf1\": ecf1,\n",
    "    \"ecf2\": ecf2,\n",
    "    \"ecf3\": ecf3,\n",
    "}"
   ]
  },
  {
   "cell_type": "markdown",
   "metadata": {},
   "source": [
    "Again, this section is modified from feature_preservation.py, and reads through the files picked from 2018.json, and runs over them to create awkward files of separated 2mu2e and 4mu signal files."
   ]
  },
  {
   "cell_type": "code",
   "execution_count": 10,
   "metadata": {},
   "outputs": [],
   "source": [
    "mp4mu = mpp.ffMultiPicker(sig4mu, pickmethods=_pm)\n",
    "mp_res_4mu = mp4mu.pick()\n",
    "\n",
    "mp2mu2e = mpp.ffMultiPicker(sig2mu2e, pickmethods=_pm)\n",
    "mp_res_2mu2e = mp2mu2e.pick()\n",
    "\n",
    "fn4mu = \"signal_4mu_{}.awkd\".format(TIME_STR3)\n",
    "fn2mu2e = \"signal_2mu2e_{}.awkd\".format(TIME_STR3)\n",
    "\n",
    "fn4mu = os.path.join(DATA_DIR, fn4mu)\n",
    "fn2mu2e = os.path.join(DATA_DIR, fn2mu2e)\n",
    "awkward.save(fn4mu, mp_res_4mu, mode=\"w\")\n",
    "awkward.save(fn2mu2e, mp_res_2mu2e, mode=\"w\")"
   ]
  },
  {
   "cell_type": "markdown",
   "metadata": {},
   "source": [
    "Do the same thing for the mass point subsets:"
   ]
  },
  {
   "cell_type": "code",
   "execution_count": 8,
   "metadata": {},
   "outputs": [],
   "source": [
    "mphigh = mpp.ffMultiPicker(sig2mu2ehighphotonmass, pickmethods=_pm)\n",
    "mp_res_high = mphigh.pick()\n",
    "\n",
    "mplow = mpp.ffMultiPicker(sig2mu2elowphotonmass, pickmethods=_pm)\n",
    "mp_res_low = mphigh.pick()\n",
    "\n",
    "fnhigh = \"signal_2mu2e_MBs100_MDp5_{}.awkd\".format(TIME_STR6)\n",
    "fnlow = \"signal_2mu2e_MBs1000_MDp0p25_{}.awkd\".format(TIME_STR6)\n",
    "\n",
    "fnhigh = os.path.join(DATA_DIR, fnhigh)\n",
    "fnlow = os.path.join(DATA_DIR, fnlow)\n",
    "awkward.save(fnhigh, mp_res_high, mode=\"w\")\n",
    "awkward.save(fnlow, mp_res_low, mode=\"w\")"
   ]
  },
  {
   "cell_type": "code",
   "execution_count": 47,
   "metadata": {},
   "outputs": [],
   "source": [
    "mphighmid = mpp.ffMultiPicker(sig2mu2ehighmidphotonmass, pickmethods=_pm)\n",
    "mp_res_highmid = mphighmid.pick()\n",
    "\n",
    "mplowmid = mpp.ffMultiPicker(sig2mu2elowmidphotonmass, pickmethods=_pm)\n",
    "mp_res_lowmid = mplowmid.pick()\n",
    "\n",
    "fnhighmid = \"signal_2mu2e_MBs200_MDp2p5_{}.awkd\".format(TIME_STR8)\n",
    "fnlowmid = \"signal_2mu2e_MBs500_MDp0p8_{}.awkd\".format(TIME_STR8)\n",
    "\n",
    "fnhighmid = os.path.join(DATA_DIR, fnhighmid)\n",
    "fnlowmid = os.path.join(DATA_DIR, fnlowmid)\n",
    "awkward.save(fnhighmid, mp_res_highmid, mode=\"w\")\n",
    "awkward.save(fnlowmid, mp_res_lowmid, mode=\"w\")"
   ]
  },
  {
   "cell_type": "markdown",
   "metadata": {},
   "source": [
    "Do the same thing for background, creating awkward files for each type of background:"
   ]
  },
  {
   "cell_type": "code",
   "execution_count": 17,
   "metadata": {},
   "outputs": [],
   "source": [
    "_pm.pop(\"target\")\n",
    "\n",
    "DYmp = mpp.ffMultiPicker(DYJets, pickmethods=_pm)\n",
    "mp_res_DY = DYmp.pick()\n",
    "mp_res_DY[\"target\"] = np.zeros(len(mp_res_DY[\"pt\"]), dtype=bool)\n",
    "\n",
    "Diboson_mp = mpp.ffMultiPicker(Diboson, pickmethods=_pm)\n",
    "mp_res_diboson = Diboson_mp.pick()\n",
    "mp_res_diboson[\"target\"] = np.zeros(len(mp_res_diboson[\"pt\"]), dtype=bool)\n",
    "\n",
    "QCDmp = mpp.ffMultiPicker(QCD, pickmethods=_pm)\n",
    "mp_res_QCD = QCDmp.pick()\n",
    "mp_res_QCD[\"target\"] = np.zeros(len(mp_res_QCD[\"pt\"]), dtype=bool)\n",
    "\n",
    "TTmp = mpp.ffMultiPicker(TTJets, pickmethods=_pm)\n",
    "mp_res_TT = TTmp.pick()\n",
    "mp_res_TT[\"target\"] = np.zeros(len(mp_res_TT[\"pt\"]), dtype=bool)\n",
    "\n",
    "Triboson_mp = mpp.ffMultiPicker(Triboson, pickmethods=_pm)\n",
    "mp_res_triboson = Triboson_mp.pick()\n",
    "mp_res_triboson[\"target\"] = np.zeros(len(mp_res_triboson[\"pt\"]), dtype=bool)\n",
    "\n",
    "fndy = \"bkg_dyjets_{}.awkd\".format(TIME_STR3)\n",
    "fndiboson = \"bkg_diboson_{}.awkd\".format(TIME_STR3)\n",
    "fnqcd = \"bkg_qcd_{}.awkd\".format(TIME_STR3)\n",
    "fntt = \"bkg_ttjets_{}.awkd\".format(TIME_STR3)\n",
    "fntriboson = \"bkg_triboson_{}.awkd\".format(TIME_STR3)\n",
    "\n",
    "fndy = os.path.join(DATA_DIR, fndy)\n",
    "fndiboson = os.path.join(DATA_DIR, fndiboson)\n",
    "fnqcd = os.path.join(DATA_DIR, fnqcd)\n",
    "fntt = os.path.join(DATA_DIR, fntt)\n",
    "fntriboson = os.path.join(DATA_DIR, fntriboson)\n",
    "\n",
    "awkward.save(fndy, mp_res_DY, mode=\"w\")\n",
    "awkward.save(fndiboson, mp_res_diboson, mode=\"w\")\n",
    "awkward.save(fnqcd, mp_res_QCD, mode=\"w\")\n",
    "awkward.save(fntt, mp_res_TT, mode=\"w\")\n",
    "awkward.save(fntriboson, mp_res_triboson, mode=\"w\")"
   ]
  },
  {
   "cell_type": "markdown",
   "metadata": {},
   "source": [
    "## Using a previously generated model to make and plot predictions"
   ]
  },
  {
   "cell_type": "markdown",
   "metadata": {},
   "source": [
    "In this section, we generate prediction distributions and other performance report plots and metrics."
   ]
  },
  {
   "cell_type": "markdown",
   "metadata": {},
   "source": [
    "Run over those awkward signal files and do predictions:"
   ]
  },
  {
   "cell_type": "code",
   "execution_count": 11,
   "metadata": {},
   "outputs": [
    {
     "name": "stdout",
     "output_type": "stream",
     "text": [
      "loading data...\n"
     ]
    },
    {
     "name": "stderr",
     "output_type": "stream",
     "text": [
      "/uscms/home/sadie/nobackup/anaconda3/envs/ffAna/lib/python3.7/site-packages/xgboost/core.py:587: FutureWarning: Series.base is deprecated and will be removed in a future version\n",
      "  if getattr(data, 'base', None) is not None and \\\n"
     ]
    },
    {
     "name": "stdout",
     "output_type": "stream",
     "text": [
      "data loaded.\n"
     ]
    }
   ],
   "source": [
    "PATH_2MU2E = join(os.environ[\"FFANA_BASE\"], f\"mvatrain/data/signal_2mu2e_{TIME_STR3}.awkd\")\n",
    "PATH_4MU = join(os.environ[\"FFANA_BASE\"], f\"mvatrain/data/signal_4mu_{TIME_STR3}.awkd\")\n",
    "\n",
    "print(\"loading data...\")\n",
    "dataset_ = awkward.load(COMBODATA_PATH)\n",
    "dataset_2mu2e_ = awkward.load(PATH_2MU2E)\n",
    "dataset_4mu_ = awkward.load(PATH_4MU)\n",
    "df = pd.DataFrame(dict(dataset_))\n",
    "df2mu2e = pd.DataFrame(dict(dataset_2mu2e_))\n",
    "df4mu = pd.DataFrame(dict(dataset_4mu_))\n",
    "df.fillna(0)\n",
    "df2mu2e.fillna(0)\n",
    "df4mu.fillna(0)\n",
    "\n",
    "feature_cols_2mu2e = [n for n in dataset_2mu2e_.keys() if n != \"target\"]\n",
    "feature_cols_4mu = [n for n in dataset_4mu_.keys() if n != \"target\"]\n",
    "\n",
    "X_train_2mu2e, X_test_2mu2e, y_train_2mu2e, y_test_2mu2e = train_test_split(\n",
    "    df2mu2e[feature_cols_2mu2e], df2mu2e[\"target\"], random_state=42, test_size=0.25\n",
    ")\n",
    "X_train_4mu, X_test_4mu, y_train_4mu, y_test_4mu = train_test_split(\n",
    "    df4mu[feature_cols_4mu], df4mu[\"target\"], random_state=42, test_size=0.25\n",
    ")\n",
    "\n",
    "xgtrain2mu2e = xgb.DMatrix(X_train_2mu2e, label=y_train_2mu2e)\n",
    "xgtest2mu2e = xgb.DMatrix(X_test_2mu2e, label=y_test_2mu2e)\n",
    "xgtrain4mu = xgb.DMatrix(X_train_4mu, label=y_train_4mu)\n",
    "xgtest4mu = xgb.DMatrix(X_test_4mu, label=y_test_4mu)\n",
    "\n",
    "train_preds_optimized_2mu2e = xgbm_optimized.predict(xgtrain2mu2e)\n",
    "test_preds_optimized_2mu2e = xgbm_optimized.predict(xgtest2mu2e)\n",
    "\n",
    "train_preds_optimized_4mu = xgbm_optimized.predict(xgtrain4mu)\n",
    "test_preds_optimized_4mu = xgbm_optimized.predict(xgtest4mu)\n",
    "\n",
    "print(\"data loaded.\")"
   ]
  },
  {
   "cell_type": "markdown",
   "metadata": {},
   "source": [
    "Plot BDT value for separated 2mu2e and 4mu signal samples:"
   ]
  },
  {
   "cell_type": "code",
   "execution_count": 12,
   "metadata": {},
   "outputs": [
    {
     "name": "stdout",
     "output_type": "stream",
     "text": [
      "Making prediction distribution plots under /uscms/home/sadie/nobackup/ffAna-master/mvatrain/reports/190730\n",
      "Plots made!\n"
     ]
    }
   ],
   "source": [
    "if not os.path.exists(REPORT_DIR):\n",
    "    os.makedirs(REPORT_DIR)\n",
    "\n",
    "print(f\"Making prediction distribution plots under {REPORT_DIR}\")\n",
    "commonkw = {\n",
    "    \"range\": [-10, 10],\n",
    "    \"bins\": 50,\n",
    "    \"histtype\": \"stepfilled\",\n",
    "    \"alpha\": 0.8,\n",
    "    \"density\": True,\n",
    "    \"linewidth\": 2,\n",
    "}\n",
    "\n",
    "fig, ax = plt.subplots(figsize=(8, 6))\n",
    "ax.hist(train_preds_optimized_2mu2e[y_train_2mu2e], label=\"signal 2mu2e (train)\", **commonkw)\n",
    "commonkw.pop(\"histtype\")\n",
    "commonkw.pop(\"alpha\")\n",
    "hist_errorbars(test_preds_optimized_2mu2e[y_test_2mu2e], ax=ax, **commonkw).set_label(\n",
    "    \"signal 2mu2e (test)\"\n",
    ")\n",
    "\n",
    "ax.legend(title=\"optimized\")\n",
    "ax.set_xlabel(\"BDT score\", ha=\"right\", x=1)\n",
    "ax.set_ylabel(\"A.U.\", ha=\"right\", y=1)\n",
    "ax.set_title(\"leptonJet BDT prediction value\", ha=\"left\", x=0)\n",
    "plt.savefig(join(REPORT_DIR, \"signal_2mu2e_prediction_dist_optimized.pdf\"), bbox_inches='tight')\n",
    "plt.close()\n",
    "\n",
    "commonkw.update({\"range\": [-10, 10], \"histtype\": \"stepfilled\", \"alpha\": 0.8})\n",
    "fig, ax = plt.subplots(figsize=(8, 6))\n",
    "ax.hist(train_preds_optimized_4mu[y_train_4mu], label=\"signal 4mu (train)\", **commonkw)\n",
    "commonkw.pop(\"histtype\")\n",
    "commonkw.pop(\"alpha\")\n",
    "hist_errorbars(test_preds_optimized_4mu[y_test_4mu], ax=ax, **commonkw).set_label(\n",
    "    \"signal 4mu (test)\"\n",
    ")\n",
    "\n",
    "ax.legend(title=\"optimized\")\n",
    "ax.set_xlabel(\"BDT score\", ha=\"right\", x=1)\n",
    "ax.set_ylabel(\"A.U.\", ha=\"right\", y=1)\n",
    "ax.set_title(\"leptonJet BDT prediction value\", ha=\"left\", x=0)\n",
    "plt.savefig(join(REPORT_DIR, \"signal_4mu_prediction_dist_optimized.pdf\"), bbox_inches='tight')\n",
    "plt.close()\n",
    "\n",
    "print(\"Plots made!\")"
   ]
  },
  {
   "cell_type": "markdown",
   "metadata": {},
   "source": [
    "Overlay the two signal samples into the same plot:"
   ]
  },
  {
   "cell_type": "code",
   "execution_count": 13,
   "metadata": {},
   "outputs": [
    {
     "name": "stdout",
     "output_type": "stream",
     "text": [
      "Making prediction distribution plots under /uscms/home/sadie/nobackup/ffAna-master/mvatrain/reports/190730\n",
      "Plots made!\n"
     ]
    }
   ],
   "source": [
    "if not os.path.exists(REPORT_DIR):\n",
    "    os.makedirs(REPORT_DIR)\n",
    "\n",
    "print(f\"Making prediction distribution plots under {REPORT_DIR}\")\n",
    "commonkw = {\n",
    "    \"range\": [-10, 10],\n",
    "    \"bins\": 50,\n",
    "    \"histtype\": \"stepfilled\",\n",
    "    \"alpha\": 0.8,\n",
    "    \"density\": True,\n",
    "    \"linewidth\": 2,\n",
    "}\n",
    "\n",
    "fig, ax = plt.subplots(figsize=(8, 6))\n",
    "ax.hist(train_preds_optimized_2mu2e[y_train_2mu2e], label=\"signal 2mu2e (train)\", **commonkw)\n",
    "ax.hist(train_preds_optimized_4mu[y_train_4mu], label=\"signal 4mu (train)\", **commonkw)\n",
    "commonkw.pop(\"histtype\")\n",
    "commonkw.pop(\"alpha\")\n",
    "hist_errorbars(test_preds_optimized_2mu2e[y_test_2mu2e], ax=ax, **commonkw).set_label(\n",
    "    \"signal 2mu2e (test)\"\n",
    ")\n",
    "hist_errorbars(test_preds_optimized_4mu[y_test_4mu], ax=ax, **commonkw).set_label(\n",
    "    \"signal 4mu (test)\"\n",
    ")\n",
    "\n",
    "ax.legend(title=\"optimized\")\n",
    "ax.set_xlabel(\"BDT score\", ha=\"right\", x=1)\n",
    "ax.set_ylabel(\"A.U.\", ha=\"right\", y=1)\n",
    "ax.set_title(\"leptonJet BDT prediction value\", ha=\"left\", x=0)\n",
    "plt.savefig(join(REPORT_DIR, \"signal_overlay_prediction_dist_optimized.pdf\"), bbox_inches='tight')\n",
    "plt.close()\n",
    "\n",
    "print(\"Plots made!\")"
   ]
  },
  {
   "cell_type": "markdown",
   "metadata": {},
   "source": [
    "Do predictions over each type of background:"
   ]
  },
  {
   "cell_type": "code",
   "execution_count": 18,
   "metadata": {},
   "outputs": [
    {
     "name": "stdout",
     "output_type": "stream",
     "text": [
      "loading data...\n"
     ]
    },
    {
     "name": "stderr",
     "output_type": "stream",
     "text": [
      "/uscms/home/sadie/nobackup/anaconda3/envs/ffAna/lib/python3.7/site-packages/xgboost/core.py:587: FutureWarning: Series.base is deprecated and will be removed in a future version\n",
      "  if getattr(data, 'base', None) is not None and \\\n"
     ]
    },
    {
     "name": "stdout",
     "output_type": "stream",
     "text": [
      "data loaded.\n"
     ]
    }
   ],
   "source": [
    "PATH_DY = join(os.environ[\"FFANA_BASE\"], f\"mvatrain/data/bkg_dyjets_{TIME_STR3}.awkd\")\n",
    "PATH_DIBOSON = join(os.environ[\"FFANA_BASE\"], f\"mvatrain/data/bkg_diboson_{TIME_STR3}.awkd\")\n",
    "PATH_QCD = join(os.environ[\"FFANA_BASE\"], f\"mvatrain/data/bkg_qcd_{TIME_STR3}.awkd\")\n",
    "PATH_TT = join(os.environ[\"FFANA_BASE\"], f\"mvatrain/data/bkg_ttjets_{TIME_STR3}.awkd\")\n",
    "PATH_TRIBOSON = join(os.environ[\"FFANA_BASE\"], f\"mvatrain/data/bkg_triboson_{TIME_STR3}.awkd\")\n",
    "\n",
    "print(\"loading data...\")\n",
    "dataset_dy_ = awkward.load(PATH_DY)\n",
    "dataset_diboson_ = awkward.load(PATH_DIBOSON)\n",
    "dataset_qcd_ = awkward.load(PATH_QCD)\n",
    "dataset_tt_ = awkward.load(PATH_TT)\n",
    "dataset_triboson_ = awkward.load(PATH_TRIBOSON)\n",
    "dfdy = pd.DataFrame(dict(dataset_dy_))\n",
    "dfdiboson = pd.DataFrame(dict(dataset_diboson_))\n",
    "dfqcd = pd.DataFrame(dict(dataset_qcd_))\n",
    "dftt = pd.DataFrame(dict(dataset_tt_))\n",
    "dftriboson = pd.DataFrame(dict(dataset_triboson_))\n",
    "dfdy.fillna(0)\n",
    "dfdiboson.fillna(0)\n",
    "dfqcd.fillna(0)\n",
    "dftt.fillna(0)\n",
    "dftriboson.fillna(0)\n",
    "\n",
    "feature_cols_dy = [n for n in dataset_dy_.keys() if n != \"target\"]\n",
    "feature_cols_diboson = [n for n in dataset_diboson_.keys() if n != \"target\"]\n",
    "feature_cols_qcd = [n for n in dataset_qcd_.keys() if n != \"target\"]\n",
    "feature_cols_tt = [n for n in dataset_tt_.keys() if n != \"target\"]\n",
    "feature_cols_triboson = [n for n in dataset_triboson_.keys() if n != \"target\"]\n",
    "\n",
    "X_train_dy, X_test_dy, y_train_dy, y_test_dy = train_test_split(\n",
    "    dfdy[feature_cols_dy], dfdy[\"target\"], random_state=42, test_size=0.25\n",
    ")\n",
    "X_train_diboson, X_test_diboson, y_train_diboson, y_test_diboson = train_test_split(\n",
    "    dfdiboson[feature_cols_diboson], dfdiboson[\"target\"], random_state=42, test_size=0.25\n",
    ")\n",
    "X_train_qcd, X_test_qcd, y_train_qcd, y_test_qcd = train_test_split(\n",
    "    dfqcd[feature_cols_qcd], dfqcd[\"target\"], random_state=42, test_size=0.25\n",
    ")\n",
    "X_train_tt, X_test_tt, y_train_tt, y_test_tt = train_test_split(\n",
    "    dftt[feature_cols_tt], dftt[\"target\"], random_state=42, test_size=0.25\n",
    ")\n",
    "X_train_triboson, X_test_triboson, y_train_triboson, y_test_triboson = train_test_split(\n",
    "    dftriboson[feature_cols_triboson], dftriboson[\"target\"], random_state=42, test_size=0.25\n",
    ")\n",
    "\n",
    "xgtraindy = xgb.DMatrix(X_train_dy, label=y_train_dy)\n",
    "xgtestdy = xgb.DMatrix(X_test_dy, label=y_test_dy)\n",
    "xgtraindiboson = xgb.DMatrix(X_train_diboson, label=y_train_diboson)\n",
    "xgtestdiboson = xgb.DMatrix(X_test_diboson, label=y_test_diboson)\n",
    "xgtrainqcd = xgb.DMatrix(X_train_qcd, label=y_train_qcd)\n",
    "xgtestqcd = xgb.DMatrix(X_test_qcd, label=y_test_qcd)\n",
    "xgtraintt = xgb.DMatrix(X_train_tt, label=y_train_tt)\n",
    "xgtesttt = xgb.DMatrix(X_test_tt, label=y_test_tt)\n",
    "xgtraintriboson = xgb.DMatrix(X_train_triboson, label=y_train_triboson)\n",
    "xgtesttriboson = xgb.DMatrix(X_test_triboson, label=y_test_triboson)\n",
    "\n",
    "train_preds_optimized_dy = xgbm_optimized.predict(xgtraindy)\n",
    "test_preds_optimized_dy = xgbm_optimized.predict(xgtestdy)\n",
    "\n",
    "train_preds_optimized_diboson = xgbm_optimized.predict(xgtraindiboson)\n",
    "test_preds_optimized_diboson = xgbm_optimized.predict(xgtestdiboson)\n",
    "\n",
    "train_preds_optimized_qcd = xgbm_optimized.predict(xgtrainqcd)\n",
    "test_preds_optimized_qcd = xgbm_optimized.predict(xgtestqcd)\n",
    "\n",
    "train_preds_optimized_tt = xgbm_optimized.predict(xgtraintt)\n",
    "test_preds_optimized_tt = xgbm_optimized.predict(xgtesttt)\n",
    "\n",
    "train_preds_optimized_triboson = xgbm_optimized.predict(xgtraintriboson)\n",
    "test_preds_optimized_triboson = xgbm_optimized.predict(xgtesttriboson)\n",
    "\n",
    "print(\"data loaded.\")"
   ]
  },
  {
   "cell_type": "markdown",
   "metadata": {},
   "source": [
    "Plot different types of background (background overlay is not working, but is a moot point since coffea integration is now working):"
   ]
  },
  {
   "cell_type": "code",
   "execution_count": 55,
   "metadata": {},
   "outputs": [
    {
     "name": "stdout",
     "output_type": "stream",
     "text": [
      "Making prediction distribution plots under /uscms/home/sadie/nobackup/ffAna-master/mvatrain/reports/190729\n",
      "Plots made!\n"
     ]
    }
   ],
   "source": [
    "print(f\"Making prediction distribution plots under {REPORT_DIR}\")\n",
    "commonkw = {\n",
    "    \"range\": [-10, 10],\n",
    "    \"bins\": 50,\n",
    "    \"histtype\": \"stepfilled\",\n",
    "    \"alpha\": 0.8,\n",
    "    \"density\": True,\n",
    "    \"linewidth\": 2,\n",
    "}\n",
    "\n",
    "fig, ax = plt.subplots(figsize=(8, 6))\n",
    "ax.hist(train_preds_optimized_triboson, label=\"background triboson (train)\", **commonkw)\n",
    "\n",
    "commonkw.pop(\"histtype\")\n",
    "commonkw.pop(\"alpha\")\n",
    "\n",
    "hist_errorbars(test_preds_optimized_triboson, ax=ax, **commonkw).set_label(\n",
    "    \"background triboson (test)\"\n",
    ")\n",
    "\n",
    "ax.legend(title=\"optimized\")\n",
    "ax.set_xlabel(\"BDT score\", ha=\"right\", x=1)\n",
    "ax.set_ylabel(\"A.U.\", ha=\"right\", y=1)\n",
    "ax.set_title(\"leptonJet BDT prediction value\", ha=\"left\", x=0)\n",
    "plt.savefig(join(REPORT_DIR, \"background_triboson_overlay_prediction_dist_optimized.pdf\"), bbox_inches='tight')\n",
    "plt.close()\n",
    "\n",
    "print(\"Plots made!\")"
   ]
  },
  {
   "cell_type": "markdown",
   "metadata": {},
   "source": [
    "## Reference: Prediction from .awkd"
   ]
  },
  {
   "cell_type": "markdown",
   "metadata": {},
   "source": [
    "Keep our code that predicts straight from an awkward file, just in case we need it."
   ]
  },
  {
   "cell_type": "code",
   "execution_count": 15,
   "metadata": {},
   "outputs": [],
   "source": [
    "PATH_SIG = join(os.environ[\"FFANA_BASE\"], f\"mvatrain/data/signal_190813.awkd\")\n",
    "\n",
    "test_dataset_ = awkward.load(PATH_SIG)\n",
    "dftest = pd.DataFrame(dict(test_dataset_))\n",
    "dftest.fillna(0)\n",
    "\n",
    "feature_cols = [n for n in test_dataset_.keys() if n != \"target\"]\n",
    "dftest2 = dftest[feature_cols]\n",
    "\n",
    "xgtest = xgb.DMatrix(dftest2)\n",
    "\n",
    "preds = xgbm_optimized.predict(xgtest)"
   ]
  },
  {
   "cell_type": "markdown",
   "metadata": {},
   "source": [
    "## Implementation of Coffea processing and histogramming"
   ]
  },
  {
   "cell_type": "markdown",
   "metadata": {},
   "source": [
    "To gain access to an increased amount of histogramming tools and plotting capabilities, we want to interface the BDT (which is not saved in the ntuples here) with Coffea's processor tool."
   ]
  },
  {
   "cell_type": "markdown",
   "metadata": {},
   "source": [
    "This notebook is getting long, so let's recall our timestamps and load in our desired model again:"
   ]
  },
  {
   "cell_type": "code",
   "execution_count": 2,
   "metadata": {},
   "outputs": [],
   "source": [
    "np.seterr(divide='ignore', invalid='ignore', over='ignore')\n",
    "np.set_printoptions(threshold=np.inf)\n",
    "TIME_STR = \"190812\"\n",
    "TIME_STR2 = \"190815\"\n",
    "TIME_STR_CURRENT = \"190822\"\n",
    "DATA_DIR = join(os.environ[\"FFANA_BASE\"], f\"mvatrain/data\") #base data directory\n",
    "OUTPUT_DIR = join(os.environ[\"FFANA_BASE\"], f\"mvatrain/outputs/earl_grey_strong_redux\")  #model\n",
    "REPORT_DIR = join(os.environ[\"FFANA_BASE\"], f\"mvatrain/reports/{TIME_STR_CURRENT}\") #reports and plots"
   ]
  },
  {
   "cell_type": "code",
   "execution_count": 3,
   "metadata": {},
   "outputs": [
    {
     "name": "stdout",
     "output_type": "stream",
     "text": [
      "loading model...\n",
      "model loaded.\n",
      "loading model...\n",
      "model loaded.\n",
      "loading model...\n",
      "model loaded.\n"
     ]
    }
   ],
   "source": [
    "OUTPUT_DIR_CURRENT = join(os.environ[\"FFANA_BASE\"], f\"mvatrain/outputs/earl_grey_strong_redux\")\n",
    "OUTPUT_DIR_MU = join(os.environ[\"FFANA_BASE\"], f\"mvatrain/outputs/english_breakfast_redux\")\n",
    "OUTPUT_DIR_ELEC = join(os.environ[\"FFANA_BASE\"], f\"mvatrain/outputs/irish_breakfast_redux\")\n",
    "\n",
    "print(\"loading model...\")\n",
    "xgbm_current = xgb.Booster({\"nthread\": 16})\n",
    "xgbm_current.load_model(join(OUTPUT_DIR_CURRENT, \"model_optimized/model.bin\"))\n",
    "if xgbm_current.attributes().get('SAVED_PARAM_predictor', None)=='gpu_predictor':\n",
    "    xgbm_current.set_attr(SAVED_PARAM_predictor=None)\n",
    "print(\"model loaded.\")\n",
    "\n",
    "print(\"loading model...\")\n",
    "xgbm_mu = xgb.Booster({\"nthread\": 16})\n",
    "xgbm_mu.load_model(join(OUTPUT_DIR_MU, \"model_optimized/model.bin\"))\n",
    "if xgbm_mu.attributes().get('SAVED_PARAM_predictor', None)=='gpu_predictor':\n",
    "    xgbm_mu.set_attr(SAVED_PARAM_predictor=None)\n",
    "print(\"model loaded.\")\n",
    "\n",
    "print(\"loading model...\")\n",
    "xgbm_elec = xgb.Booster({\"nthread\": 16})\n",
    "xgbm_elec.load_model(join(OUTPUT_DIR_ELEC, \"model_optimized/model.bin\"))\n",
    "if xgbm_elec.attributes().get('SAVED_PARAM_predictor', None)=='gpu_predictor':\n",
    "    xgbm_elec.set_attr(SAVED_PARAM_predictor=None)\n",
    "print(\"model loaded.\")"
   ]
  },
  {
   "cell_type": "markdown",
   "metadata": {},
   "source": [
    "We can also make graphviz representations of the model, if we want:"
   ]
  },
  {
   "cell_type": "code",
   "execution_count": 24,
   "metadata": {},
   "outputs": [],
   "source": [
    "graphviz_current_1 = xgb.to_graphviz(xgbm_current, num_trees=1)\n",
    "graphviz_mu_1 = xgb.to_graphviz(xgbm_mu, num_trees=1)\n",
    "graphviz_elec_1 = xgb.to_graphviz(xgbm_elec, num_trees=1)"
   ]
  },
  {
   "cell_type": "code",
   "execution_count": 25,
   "metadata": {},
   "outputs": [
    {
     "data": {
      "text/plain": [
       "'elec_1.gv.pdf'"
      ]
     },
     "execution_count": 25,
     "metadata": {},
     "output_type": "execute_result"
    }
   ],
   "source": [
    "graphviz_current_1.render(filename=\"current_1.gv\")\n",
    "graphviz_mu_1.render(filename=\"mu_1.gv\")\n",
    "graphviz_elec_1.render(filename=\"elec_1.gv\")"
   ]
  },
  {
   "cell_type": "markdown",
   "metadata": {},
   "source": [
    "Get our data from .json and sort it:"
   ]
  },
  {
   "cell_type": "code",
   "execution_count": 4,
   "metadata": {},
   "outputs": [
    {
     "name": "stdout",
     "output_type": "stream",
     "text": [
      "Getting background files from .json...\n",
      "Getting signal files from .json...\n",
      "Files gotten!\n"
     ]
    }
   ],
   "source": [
    "print(\"Getting background files from .json...\")\n",
    "datasets_ = json.load(open('2018.json'))\n",
    "bkgdatasets = {}\n",
    "for group in datasets_.keys():\n",
    "    if 'DoubleMuon' in group: continue #not data\n",
    "    if 'CRAB_PrivateMC' in group: continue #not signal\n",
    "    files = datasets_[group]['files']\n",
    "    bkgdatasets[group] = [files] #normal background\n",
    "            \n",
    "print(\"Getting signal files from .json...\")\n",
    "datasets_ = json.load(open('2018.json'))\n",
    "sigdatasets = []\n",
    "for group in datasets_.keys():\n",
    "    if not ('CRAB_PrivateMC' in group): continue #not data or background\n",
    "    files = datasets_[group]['files']\n",
    "    for file in files: sigdatasets.append(file)\n",
    "    \n",
    "print(\"Files gotten!\")"
   ]
  },
  {
   "cell_type": "code",
   "execution_count": 5,
   "metadata": {},
   "outputs": [],
   "source": [
    "lssig4mu = []\n",
    "lssig2mu2e = []\n",
    "\n",
    "for path in sigdatasets:\n",
    "    if '4Mu' in path:\n",
    "        lssig4mu.append(path)\n",
    "    else:\n",
    "        lssig2mu2e.append(path)"
   ]
  },
  {
   "cell_type": "code",
   "execution_count": 6,
   "metadata": {},
   "outputs": [],
   "source": [
    "dataset=dict(\n",
    "    sig4mu={'files': [], 'treename': 'ffNtuplizer/ffNtuple'},\n",
    "    sig2mu2e={'files': [], 'treename': 'ffNtuplizer/ffNtuple'},\n",
    ")\n",
    "\n",
    "dataset['sig4mu']['files'].extend(lssig4mu)\n",
    "dataset['sig2mu2e']['files'].extend(lssig2mu2e)"
   ]
  },
  {
   "cell_type": "code",
   "execution_count": 7,
   "metadata": {},
   "outputs": [],
   "source": [
    "dataset_mu=dict(\n",
    "    sig4mu={'files': [], 'treename': 'ffNtuplizer/ffNtuple'},\n",
    ")\n",
    "dataset_elec=dict(\n",
    "    sig2mu2e={'files': [], 'treename': 'ffNtuplizer/ffNtuple'},\n",
    ")\n",
    "\n",
    "dataset_mu['sig4mu']['files'].extend(lssig4mu)\n",
    "dataset_elec['sig2mu2e']['files'].extend(lssig2mu2e)"
   ]
  },
  {
   "cell_type": "markdown",
   "metadata": {},
   "source": [
    "So now we can start setting up our coffea processor. We include the \"making predictions\" step right in the processor, and then back-save the predictions alongside the other data so that the prediction value is matched with its event."
   ]
  },
  {
   "cell_type": "code",
   "execution_count": 8,
   "metadata": {},
   "outputs": [],
   "source": [
    "class LeptonJetProcessor(processor.ProcessorABC):\n",
    "    def __init__(self):\n",
    "        dataset_axis  = hist.Cat('dataset', 'signal datasets')\n",
    "        match_axis    = hist.Cat('match', 'matched')\n",
    "        pt_axis       = hist.Bin(\"pt\", \"pT [GeV]\", 50, 0, 800)\n",
    "        eta_axis      = hist.Bin(\"eta\", 'eta', 50, -2.4, 2.4)\n",
    "        neufrac_axis  = hist.Bin(\"neufrac\", \"neutral energy fraction\", 50, 0, 1)\n",
    "        maxd0_axis    = hist.Bin(\"maxd0\", 'track max |d0|', 50, 0, 0.5)\n",
    "        mind0_axis    = hist.Bin(\"mind0\", 'track min |d0|', 50, 0, 0.5)\n",
    "        tkiso_axis    = hist.Bin('tkiso', 'track isolation', 50, 0, 1)\n",
    "        pfiso_axis    = hist.Bin(\"pfiso\", \"PFCands isolation\", 50, 0, 1)\n",
    "        spreadpt_axis = hist.Bin(\"spreadpt\", \"spreadpt\", 50, 0, 1)\n",
    "        spreaddr_axis = hist.Bin(\"spreaddr\", \"spreaddr\", 50, 0, 0.1)\n",
    "        lambda_axis   = hist.Bin('lambda', 'jet sub - lambda', 50, -8, 0)\n",
    "        epsilon_axis  = hist.Bin('epsilon', 'jet sub - epsilon', 50, 0, 0.25)\n",
    "        ecf1_axis     = hist.Bin('ecf1', 'energy correlation function - e1', 50, 0, 750)\n",
    "        ecf2_axis     = hist.Bin('ecf2', 'energy correlation function - e2', 50, 0, 2000)\n",
    "        ecf3_axis     = hist.Bin('ecf3', 'energy correlation function - e3', 50, 0, 1000)\n",
    "        mva_axis      = hist.Bin('mva', \"BDT prediction value\", 50, -10, 10)\n",
    "        \n",
    "        self._accumulator = processor.dict_accumulator({\n",
    "            'pt': hist.Hist(\"#counts/16GeV\", dataset_axis, pt_axis, match_axis),\n",
    "            \"eta\": hist.Hist(\"#counts/0.096\", dataset_axis, eta_axis, match_axis),\n",
    "            \"neufrac\": hist.Hist(\"#counts/0.02\", dataset_axis, neufrac_axis, match_axis),\n",
    "            \"maxd0\": hist.Hist(\"#counts/0.01cm\", dataset_axis, maxd0_axis, match_axis),\n",
    "            \"mind0\": hist.Hist(\"#counts/0.01cm\", dataset_axis, mind0_axis, match_axis),\n",
    "            \"tkiso\": hist.Hist(\"#counts/0.02\", dataset_axis, tkiso_axis, match_axis),\n",
    "            \"pfiso\": hist.Hist(\"#counts/0.02\", dataset_axis, pfiso_axis, match_axis),\n",
    "            \"spreadpt\": hist.Hist(\"#counts/0.02\", dataset_axis, spreadpt_axis, match_axis),\n",
    "            \"spreaddr\": hist.Hist(\"#counts/0.002\", dataset_axis, spreaddr_axis, match_axis),\n",
    "            \"lambda\": hist.Hist(\"#counts/0.16\", dataset_axis, lambda_axis, match_axis),\n",
    "            \"epsilon\": hist.Hist(\"#counts/0.005\", dataset_axis, epsilon_axis, match_axis),\n",
    "            \"ecf1\": hist.Hist(\"#counts/25\", dataset_axis, ecf1_axis, match_axis),\n",
    "            \"ecf2\": hist.Hist(\"#counts/40\", dataset_axis, ecf2_axis, match_axis),\n",
    "            \"ecf3\": hist.Hist(\"#counts/20\", dataset_axis, ecf3_axis, match_axis),\n",
    "            \"mva\": hist.Hist(\"#counts/0.4\", dataset_axis, mva_axis, match_axis),\n",
    "        })\n",
    "\n",
    "    @property\n",
    "    def accumulator(self):\n",
    "        return self._accumulator\n",
    "    \n",
    "    def process(self, df):\n",
    "        output = self.accumulator.identity()\n",
    "        \n",
    "        dataset = df['dataset']\n",
    "        \n",
    "        maxd0_ = np.abs(NestNestObjArrayToJagged(df['pfjet_pfcand_tkD0'])).fillna(-10000).max()\n",
    "        mind0_ = np.abs(NestNestObjArrayToJagged(df['pfjet_pfcand_tkD0'])).fillna(10000).min()\n",
    "        \n",
    "        flat_maxd0 = maxd0_.flatten()\n",
    "        offsets = maxd0_.offsets\n",
    "        flat_maxd0 = np.where(flat_maxd0 == -10000, 0, flat_maxd0)\n",
    "        maxd0_ = JaggedArray.fromoffsets(offsets, flat_maxd0)\n",
    "        \n",
    "        flat_mind0 = mind0_.flatten()\n",
    "        offsets = mind0_.offsets\n",
    "        flat_mind0 = np.where(flat_mind0 == 10000, 0, flat_mind0)\n",
    "        mind0_ = JaggedArray.fromoffsets(offsets, flat_mind0)\n",
    "                            \n",
    "        leptonjets = JaggedCandidateArray.candidatesfromcounts(\n",
    "            df['pfjet_p4'], **{\n",
    "            \"px\": df['pfjet_p4.fCoordinates.fX'].content,\n",
    "            \"py\": df['pfjet_p4.fCoordinates.fY'].content,\n",
    "            \"pz\": df['pfjet_p4.fCoordinates.fZ'].content,\n",
    "            \"energy\": df['pfjet_p4.fCoordinates.fT'].content,\n",
    "            \"neufrac\": ((df['pfjet_neutralEmE'].content+df['pfjet_neutralHadronE'].content)/df['pfjet_p4.fCoordinates.fT'].content),\n",
    "            \"maxd0\": maxd0_.content,\n",
    "            \"mind0\": mind0_.content,\n",
    "            \"tkiso\": df['pfjet_tkIsolation05'].content,\n",
    "            \"pfiso\": df['pfjet_pfIsolation05'].content,\n",
    "            \"spreadpt\": df['pfjet_ptDistribution'].content,\n",
    "            \"spreaddr\": df['pfjet_dRSpread'].content,\n",
    "            \"lambda\": df['pfjet_subjet_lambda'].content,\n",
    "            \"epsilon\": df['pfjet_subjet_epsilon'].content,\n",
    "            \"ecf1\": df['pfjet_subjet_ecf1'].content,\n",
    "            \"ecf2\": df['pfjet_subjet_ecf2'].content,\n",
    "            \"ecf3\": df['pfjet_subjet_ecf3'].content,\n",
    "            })\n",
    "        \n",
    "        genparticles = JaggedCandidateArray.candidatesfromcounts(\n",
    "            df['gen_p4'],\n",
    "            px=df['gen_p4.fCoordinates.fX'].content,\n",
    "            py=df['gen_p4.fCoordinates.fY'].content,\n",
    "            pz=df['gen_p4.fCoordinates.fZ'].content,\n",
    "            energy=df['gen_p4.fCoordinates.fT'].content,\n",
    "            pid=df['gen_pid'].content\n",
    "        )\n",
    "        \n",
    "        vals={\n",
    "            'target': leptonjets.pt.zeros_like().flatten(),\n",
    "            'pt': leptonjets.pt.flatten(),\n",
    "            'eta': leptonjets.eta.flatten(),\n",
    "        }\n",
    "        \n",
    "        vals.update( {k: leptonjets[k].flatten() for k in output.keys() if (k not in vals and k != 'mva')} )\n",
    "        \n",
    "        dfleptonjets = pd.DataFrame(vals)\n",
    "        \n",
    "        dfleptonjets.fillna(0)\n",
    "        \n",
    "        feature_cols = [n for n in dfleptonjets.keys() if n != \"target\"]\n",
    "\n",
    "        dfleptonjets2 = dfleptonjets[feature_cols]\n",
    "        \n",
    "        xglj = xgb.DMatrix(dfleptonjets2)\n",
    "        \n",
    "        predictions = xgbm_current.predict(xglj)\n",
    "        \n",
    "        offsets = leptonjets.pt.offsets\n",
    "        jaggedpredictions = JaggedArray.fromoffsets(offsets, predictions)\n",
    "        leptonjets.add_attributes(mva=jaggedpredictions)\n",
    "        \n",
    "        darkphotons = genparticles[genparticles.pid==32]\n",
    "        matchmask = leptonjets.match(darkphotons, deltaRCut=0.3)\n",
    "        \n",
    "        metfiltermask = np.logical_and.reduce([df[mf] for mf in MetFilters])\n",
    "        triggermask = np.logical_or.reduce([df[tp] for tp in Triggers])\n",
    "        \n",
    "        leptonjets_t = leptonjets[matchmask][metfiltermask&triggermask]\n",
    "        leptonjets_f = leptonjets[~matchmask][metfiltermask&triggermask]\n",
    "        \n",
    "        output['pt']      .fill(dataset=dataset, match='matched', pt=leptonjets_t.pt.flatten())\n",
    "        output['eta']     .fill(dataset=dataset, match='matched', eta=leptonjets_t.eta.flatten())\n",
    "        output['neufrac'] .fill(dataset=dataset, match='matched', neufrac=leptonjets_t.neufrac.flatten())\n",
    "        output['maxd0']   .fill(dataset=dataset, match='matched', maxd0=leptonjets_t.maxd0.flatten())\n",
    "        output['mind0']   .fill(dataset=dataset, match='matched', mind0=leptonjets_t.mind0.flatten())\n",
    "        output['tkiso']   .fill(dataset=dataset, match='matched', tkiso=leptonjets_t.tkiso.flatten())\n",
    "        output['pfiso']   .fill(dataset=dataset, match='matched', pfiso=leptonjets_t.pfiso.flatten())\n",
    "        output['spreadpt'].fill(dataset=dataset, match='matched', spreadpt=leptonjets_t.spreadpt.flatten())\n",
    "        output['spreaddr'].fill(dataset=dataset, match='matched', spreaddr=leptonjets_t.spreaddr.flatten())\n",
    "        output['lambda']  .fill(**{\"dataset\": dataset, \"match\": 'matched', \"lambda\": leptonjets_t['lambda'].flatten()})\n",
    "        output['epsilon'] .fill(dataset=dataset, match='matched', epsilon=leptonjets_t.epsilon.flatten())\n",
    "        output['ecf1']    .fill(dataset=dataset, match='matched', ecf1=leptonjets_t.ecf1.flatten())\n",
    "        output['ecf2']    .fill(dataset=dataset, match='matched', ecf2=leptonjets_t.ecf2.flatten())\n",
    "        output['ecf3']    .fill(dataset=dataset, match='matched', ecf3=leptonjets_t.ecf3.flatten())\n",
    "        output['mva']     .fill(dataset=dataset, match='matched', mva=leptonjets_t['mva'].flatten())\n",
    "        \n",
    "        output['pt']      .fill(dataset=dataset, match='unmatched', pt=leptonjets_f.pt.flatten())\n",
    "        output['eta']     .fill(dataset=dataset, match='unmatched', eta=leptonjets_f.eta.flatten())\n",
    "        output['neufrac'] .fill(dataset=dataset, match='unmatched', neufrac=leptonjets_f.neufrac.flatten())\n",
    "        output['maxd0']   .fill(dataset=dataset, match='unmatched', maxd0=leptonjets_f.maxd0.flatten())\n",
    "        output['mind0']   .fill(dataset=dataset, match='unmatched', mind0=leptonjets_f.mind0.flatten())\n",
    "        output['tkiso']   .fill(dataset=dataset, match='unmatched', tkiso=leptonjets_f.tkiso.flatten())\n",
    "        output['pfiso']   .fill(dataset=dataset, match='unmatched', pfiso=leptonjets_f.pfiso.flatten())\n",
    "        output['spreadpt'].fill(dataset=dataset, match='unmatched', spreadpt=leptonjets_f.spreadpt.flatten())\n",
    "        output['spreaddr'].fill(dataset=dataset, match='unmatched', spreaddr=leptonjets_f.spreaddr.flatten())\n",
    "        output['lambda']  .fill(**{\"dataset\": dataset, \"match\": 'unmatched', \"lambda\": leptonjets_f['lambda'].flatten()})\n",
    "        output['epsilon'] .fill(dataset=dataset, match='unmatched', epsilon=leptonjets_f.epsilon.flatten())\n",
    "        output['ecf1']    .fill(dataset=dataset, match='unmatched', ecf1=leptonjets_f.ecf1.flatten())\n",
    "        output['ecf2']    .fill(dataset=dataset, match='unmatched', ecf2=leptonjets_f.ecf2.flatten())\n",
    "        output['ecf3']    .fill(dataset=dataset, match='unmatched', ecf3=leptonjets_f.ecf3.flatten())\n",
    "        output['mva']     .fill(dataset=dataset, match='unmatched', mva=leptonjets_f['mva'].flatten())\n",
    "        \n",
    "        return output\n",
    "    \n",
    "    def postprocess(self, accumulator):\n",
    "        return accumulator"
   ]
  },
  {
   "cell_type": "code",
   "execution_count": 9,
   "metadata": {},
   "outputs": [
    {
     "name": "stderr",
     "output_type": "stream",
     "text": [
      "Preprocessing: 100%|██████████| 2/2 [00:03<00:00,  1.95s/it]\n",
      "Processing: 100%|██████████| 300/300 [01:04<00:00,  3.72items/s]\n"
     ]
    }
   ],
   "source": [
    "output = processor.run_uproot_job(dataset,\n",
    "                                  treename=None,\n",
    "                                  processor_instance=LeptonJetProcessor(),\n",
    "                                  executor=processor.futures_executor,\n",
    "                                  executor_args=dict(workers=12),\n",
    "                                  chunksize=500000\n",
    "                                 )"
   ]
  },
  {
   "cell_type": "markdown",
   "metadata": {},
   "source": [
    "Now we can plot anything we want, just as if the BDT value had been saved into the ntuples! Let's look at $P_t$ to make sure our plotting is working correctly: "
   ]
  },
  {
   "cell_type": "code",
   "execution_count": 10,
   "metadata": {},
   "outputs": [
    {
     "data": {
      "image/png": "[encoded data removed]",
      "text/plain": [
       "<Figure size 1152x432 with 2 Axes>"
      ]
     },
     "metadata": {
      "needs_background": "light"
     },
     "output_type": "display_data"
    }
   ],
   "source": [
    "fig, axes = plt.subplots(1,2,figsize=(16,6))\n",
    "fig, ax, _ = hist.plot1d(output['pt'].project('match'), overlay='dataset', ax=axes[0], density=True)\n",
    "fig, ax, _ = hist.plot1d(output['pt'].project('dataset'), overlay='match', ax=axes[1], density=True)\n",
    "axes[0].set_ylim([1e-4, 1e-2])\n",
    "axes[1].set_ylim([1e-4, 1e-1])\n",
    "\n",
    "for ax in axes:\n",
    "    ax.set_yscale('log')\n",
    "    ax.set_title('[electron signal] leptonJets pT (triggered only)', x=0.0, ha=\"left\")\n",
    "    ax.set_xlabel(ax.get_xlabel(), x=1.0, ha=\"right\")\n",
    "    ax.set_ylabel(ax.get_ylabel(), y=1.0, ha=\"right\");"
   ]
  },
  {
   "cell_type": "markdown",
   "metadata": {},
   "source": [
    "And now we can plot BDT prediction values:"
   ]
  },
  {
   "cell_type": "code",
   "execution_count": 11,
   "metadata": {},
   "outputs": [
    {
     "data": {
      "image/png": "[encoded data removed]",
      "text/plain": [
       "<Figure size 1152x432 with 2 Axes>"
      ]
     },
     "metadata": {
      "needs_background": "light"
     },
     "output_type": "display_data"
    }
   ],
   "source": [
    "fig, axes = plt.subplots(1,2,figsize=(16,6))\n",
    "fig, ax, _ = hist.plot1d(output['mva'].project('match'), overlay='dataset', ax=axes[0], density=True, overflow='all')\n",
    "fig, ax, _ = hist.plot1d(output['mva'].project('dataset'), overlay='match', ax=axes[1], density=True, overflow='all')\n",
    "\n",
    "for ax in axes:\n",
    "    ax.set_title('[signal] leptonJets BDT value (triggered only)', x=0.0, ha=\"left\")\n",
    "    ax.set_xlabel(ax.get_xlabel(), x=1.0, ha=\"right\")\n",
    "    ax.set_ylabel(ax.get_ylabel(), y=1.0, ha=\"right\");"
   ]
  },
  {
   "cell_type": "markdown",
   "metadata": {},
   "source": [
    "## Counts and Cuts: Sorted with Gen Matching"
   ]
  },
  {
   "cell_type": "markdown",
   "metadata": {},
   "source": [
    "Now we want to get a more detailed sense of the effectiveness of each model, so we'll use a combination of count plotting and coffea's cutflow to tell us how many leptonJets are passing the cut points for each model."
   ]
  },
  {
   "cell_type": "markdown",
   "metadata": {},
   "source": [
    "This is the section that was used to generate the numbers for my slides given in the 8/22/19 update meeting. Those plots were made using a lot of different processors (with the corresponding models, etc.) but for the sake of shortening this notebook, a single representative processor and plot has been included, with alternate options for models and cuts etc. commented in. You can mix and match models and separation methods to generate all the plots and numbers in the 8/22/19 slides."
   ]
  },
  {
   "cell_type": "markdown",
   "metadata": {},
   "source": [
    "LJs that pass cuts, current model vs total signal:"
   ]
  },
  {
   "cell_type": "code",
   "execution_count": 12,
   "metadata": {},
   "outputs": [],
   "source": [
    "class LeptonJetCountProcessor(processor.ProcessorABC):\n",
    "    def __init__(self):\n",
    "        dataset_axis  = hist.Cat('dataset', 'signal datasets')\n",
    "        count_axis = hist.Bin(\"count\", \"#pass BDT threshold\", 9, 0, 9)\n",
    "        \n",
    "        self._accumulator = processor.dict_accumulator({\n",
    "            'count': hist.Hist(\"Counts\", dataset_axis, count_axis),\n",
    "            'cutflow': processor.defaultdict_accumulator(int)\n",
    "        })\n",
    "\n",
    "    @property\n",
    "    def accumulator(self):\n",
    "        return self._accumulator\n",
    "    \n",
    "    def process(self, df):\n",
    "        output = self.accumulator.identity()\n",
    "        \n",
    "        dataset = df['dataset']\n",
    "        \n",
    "        maxd0_ = np.abs(NestNestObjArrayToJagged(df['pfjet_pfcand_tkD0'])).fillna(-10000).max()\n",
    "        mind0_ = np.abs(NestNestObjArrayToJagged(df['pfjet_pfcand_tkD0'])).fillna(10000).min()\n",
    "        \n",
    "        flat_maxd0 = maxd0_.flatten()\n",
    "        offsets = maxd0_.offsets\n",
    "        flat_maxd0 = np.where(flat_maxd0 == -10000, 0, flat_maxd0)\n",
    "        maxd0_ = JaggedArray.fromoffsets(offsets, flat_maxd0)\n",
    "        \n",
    "        flat_mind0 = mind0_.flatten()\n",
    "        offsets = mind0_.offsets\n",
    "        flat_mind0 = np.where(flat_mind0 == 10000, 0, flat_mind0)\n",
    "        mind0_ = JaggedArray.fromoffsets(offsets, flat_mind0)\n",
    "                            \n",
    "        leptonjets = JaggedCandidateArray.candidatesfromcounts(\n",
    "            df['pfjet_p4'], **{\n",
    "            \"px\": df['pfjet_p4.fCoordinates.fX'].content,\n",
    "            \"py\": df['pfjet_p4.fCoordinates.fY'].content,\n",
    "            \"pz\": df['pfjet_p4.fCoordinates.fZ'].content,\n",
    "            \"energy\": df['pfjet_p4.fCoordinates.fT'].content,\n",
    "            \"neufrac\": ((df['pfjet_neutralEmE'].content+df['pfjet_neutralHadronE'].content)/df['pfjet_p4.fCoordinates.fT'].content),\n",
    "            \"maxd0\": maxd0_.content,\n",
    "            \"mind0\": mind0_.content,\n",
    "            \"tkiso\": df['pfjet_tkIsolation05'].content,\n",
    "            \"pfiso\": df['pfjet_pfIsolation05'].content,\n",
    "            \"spreadpt\": df['pfjet_ptDistribution'].content,\n",
    "            \"spreaddr\": df['pfjet_dRSpread'].content,\n",
    "            \"lambda\": df['pfjet_subjet_lambda'].content,\n",
    "            \"epsilon\": df['pfjet_subjet_epsilon'].content,\n",
    "            \"ecf1\": df['pfjet_subjet_ecf1'].content,\n",
    "            \"ecf2\": df['pfjet_subjet_ecf2'].content,\n",
    "            \"ecf3\": df['pfjet_subjet_ecf3'].content,\n",
    "            })\n",
    "        \n",
    "        genparticles = JaggedCandidateArray.candidatesfromcounts(\n",
    "            df['gen_p4'],\n",
    "            px=df['gen_p4.fCoordinates.fX'].content,\n",
    "            py=df['gen_p4.fCoordinates.fY'].content,\n",
    "            pz=df['gen_p4.fCoordinates.fZ'].content,\n",
    "            energy=df['gen_p4.fCoordinates.fT'].content,\n",
    "            pid=df['gen_pid'].content\n",
    "        )\n",
    "        \n",
    "        vals={\n",
    "            'target': leptonjets.pt.zeros_like().flatten(),\n",
    "            'pt': leptonjets.pt.flatten(),\n",
    "            'eta': leptonjets.eta.flatten(),\n",
    "            \"neufrac\": leptonjets.neufrac.flatten(),\n",
    "            \"maxd0\": leptonjets.maxd0.flatten(),\n",
    "            \"mind0\": leptonjets.mind0.flatten(),\n",
    "            \"tkiso\": leptonjets.tkiso.flatten(),\n",
    "            \"pfiso\": leptonjets.pfiso.flatten(),\n",
    "            \"spreadpt\": leptonjets.spreadpt.flatten(),\n",
    "            \"spreaddr\": leptonjets.spreaddr.flatten(),\n",
    "            \"lambda\": leptonjets['lambda'].flatten(),\n",
    "            \"epsilon\": leptonjets.epsilon.flatten(),\n",
    "            \"ecf1\": leptonjets.ecf1.flatten(),\n",
    "            \"ecf2\": leptonjets.ecf2.flatten(),\n",
    "            \"ecf3\": leptonjets.ecf3.flatten()\n",
    "        }\n",
    "        \n",
    "        dfleptonjets = pd.DataFrame(vals)\n",
    "        \n",
    "        dfleptonjets.fillna(0)\n",
    "        \n",
    "        feature_cols = [n for n in dfleptonjets.keys() if n != \"target\"]\n",
    "\n",
    "        dfleptonjets2 = dfleptonjets[feature_cols]\n",
    "        \n",
    "        xglj = xgb.DMatrix(dfleptonjets2)\n",
    "        \n",
    "        predictions = xgbm_current.predict(xglj)\n",
    "        # or predictions = xgbm_elec.predict(xglj)\n",
    "        # or predictions = xgbm_mu.predict(xglj)\n",
    "        \n",
    "        offsets = leptonjets.pt.offsets\n",
    "        jaggedpredictions = JaggedArray.fromoffsets(offsets, predictions)\n",
    "        leptonjets.add_attributes(mva=jaggedpredictions)\n",
    "        \n",
    "        output['cutflow']['all jets'] += leptonjets.pt.flatten().size\n",
    "        \n",
    "        darkphotons = genparticles[genparticles.pid==32]\n",
    "        matchmask = leptonjets.match(darkphotons, deltaRCut=0.3)\n",
    "        \n",
    "        #or, to select electrons/muons via gen matching:\n",
    "        #darkphotons = genparticles[genparticles.pid==32]\n",
    "        #electrons = genparticles[genparticles.pid==11] <-- or for muons, genparticles.pid==13\n",
    "        #leptonjets = leptonjets[leptonjets.match(electrons, deltaRCut=0.3)]\n",
    "        #output['cutflow']['pass electron match'] += leptonjets.pt.flatten().size\n",
    "        #matchmask = leptonjets.match(darkphotons, deltaRCut=0.3)\n",
    "        \n",
    "        #or, to select electrons/muons via a kinematic cut such as nef:\n",
    "        #elecmask = leptonjets.neufrac > 0.8 <-- or for muons, leptonjets.neufrac <= 0.8\n",
    "        #leptonjets = leptonjets[elecmask]\n",
    "        #output['cutflow']['pass neufrac cut'] += leptonjets.pt.flatten().size\n",
    "        \n",
    "        metfiltermask = np.logical_and.reduce([df[mf] for mf in MetFilters])\n",
    "        triggermask = np.logical_or.reduce([df[tp] for tp in Triggers])\n",
    "        \n",
    "        leptonjets = leptonjets[matchmask]\n",
    "        output['cutflow']['pass dark photon matching'] += leptonjets.pt.flatten().size\n",
    "        leptonjets = leptonjets[metfiltermask&triggermask]\n",
    "        output['cutflow']['pass trigger and MET filter'] += leptonjets.pt.flatten().size\n",
    "        \n",
    "        twoleptonjets = leptonjets.counts>=2\n",
    "        dileptonjets = leptonjets[twoleptonjets]\n",
    "        leptonjetpair = dileptonjets.distincts()\n",
    "        sumpt = leptonjetpair.i0.pt+leptonjetpair.i1.pt\n",
    "        #the values below come from the corresponding performance report of the model, giving 1%, 0.1%, and 0.01% fake\n",
    "        #rate respectively. they are extracted from the ROC curve and can be found in the text report.\n",
    "        looseval = 1.146255612373352\n",
    "        mediumval = 5.309855937957764\n",
    "        tightval = 8.649089813232422\n",
    "        if sumpt.size!=0:\n",
    "            leadingLjPair = leptonjetpair[sumpt.argmax()]\n",
    "            passloosecounts = (leadingLjPair.i0.mva>looseval).astype(int)+(leadingLjPair.i1.mva>looseval).astype(int)\n",
    "            passmediumcounts = (leadingLjPair.i0.mva>mediumval).astype(int)+(leadingLjPair.i1.mva>mediumval).astype(int)\n",
    "            passtightcounts = (leadingLjPair.i0.mva>tightval).astype(int)+(leadingLjPair.i1.mva>tightval).astype(int)\n",
    "            \n",
    "            output['count'].fill(dataset=dataset, count=passloosecounts.flatten())\n",
    "            output['count'].fill(dataset=dataset, count=(passmediumcounts.flatten())+3)\n",
    "            output['count'].fill(dataset=dataset, count=(passtightcounts.flatten())+6)\n",
    "\n",
    "        loose = leptonjets[leptonjets.mva>looseval]\n",
    "        medium = leptonjets[leptonjets.mva>mediumval]\n",
    "        tight = leptonjets[leptonjets.mva>tightval]\n",
    "        \n",
    "        output['cutflow']['pass loose cut'] += loose.pt.flatten().size\n",
    "        output['cutflow']['pass medium cut'] += medium.pt.flatten().size\n",
    "        output['cutflow']['pass tight cut'] += tight.pt.flatten().size\n",
    "        \n",
    "        return output\n",
    "    \n",
    "    def postprocess(self, accumulator):\n",
    "        return accumulator"
   ]
  },
  {
   "cell_type": "code",
   "execution_count": 13,
   "metadata": {},
   "outputs": [
    {
     "name": "stderr",
     "output_type": "stream",
     "text": [
      "Preprocessing: 100%|██████████| 2/2 [00:00<00:00, 1881.28it/s]\n",
      "Processing: 100%|██████████| 300/300 [01:04<00:00,  3.92items/s]\n"
     ]
    }
   ],
   "source": [
    "output = processor.run_uproot_job(dataset,\n",
    "                                  treename=None,\n",
    "                                  processor_instance=LeptonJetCountProcessor(),\n",
    "                                  executor=processor.futures_executor,\n",
    "                                  executor_args=dict(workers=12),\n",
    "                                  chunksize=500000\n",
    "                                 )"
   ]
  },
  {
   "cell_type": "code",
   "execution_count": 14,
   "metadata": {},
   "outputs": [
    {
     "data": {
      "image/png": "[encoded data removed]",
      "text/plain": [
       "<Figure size 1152x432 with 2 Axes>"
      ]
     },
     "metadata": {
      "needs_background": "light"
     },
     "output_type": "display_data"
    }
   ],
   "source": [
    "fig, axes = plt.subplots(1,2,figsize=(16,6))\n",
    "hist.plot1d(output['count'], ax=axes[0], overlay='dataset')\n",
    "hist.plot1d(output['count'].sum('dataset'), ax=axes[1])\n",
    "\n",
    "axes[0].set_ylim([0, 1e7])\n",
    "axes[1].set_ylim([0, 1e7])\n",
    "\n",
    "for ax in axes:\n",
    "    ax.set_yscale('symlog')\n",
    "    ax.set_xticklabels(['L0', 'L1', 'L2', 'M0', 'M1', 'M2', 'T0', 'T1', 'T2'],fontdict={'ha': 'left'})\n",
    "    ax.set_title('[Signal MC] leptonJet leading and subleading pass BDT thresholds', x=0.0, ha=\"left\")\n",
    "    ax.set_xlabel(ax.get_xlabel(), x=1.0, ha=\"right\")\n",
    "    ax.set_ylabel(ax.get_ylabel(), y=1.0, ha=\"right\");"
   ]
  },
  {
   "cell_type": "code",
   "execution_count": 15,
   "metadata": {},
   "outputs": [
    {
     "name": "stdout",
     "output_type": "stream",
     "text": [
      "all jets 929468\n",
      "pass dark photon matching 740779\n",
      "pass trigger and MET filter 358836\n",
      "pass loose cut 340606\n",
      "pass medium cut 294921\n",
      "pass tight cut 124132\n"
     ]
    }
   ],
   "source": [
    "for key, value in output['cutflow'].items():\n",
    "    print(key, value)"
   ]
  }
 ],
 "metadata": {
  "kernelspec": {
   "display_name": "Python 3",
   "language": "python",
   "name": "python3"
  },
  "language_info": {
   "codemirror_mode": {
    "name": "ipython",
    "version": 3
   },
   "file_extension": ".py",
   "mimetype": "text/x-python",
   "name": "python",
   "nbconvert_exporter": "python",
   "pygments_lexer": "ipython3",
   "version": "3.7.3"
  }
 },
 "nbformat": 4,
 "nbformat_minor": 2
}

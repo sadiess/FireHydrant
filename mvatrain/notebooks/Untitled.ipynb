{
 "cells": [
  {
   "cell_type": "code",
   "execution_count": 1,
   "metadata": {},
   "outputs": [],
   "source": [
    "import awkward\n",
    "import numpy as np"
   ]
  },
  {
   "cell_type": "code",
   "execution_count": 2,
   "metadata": {},
   "outputs": [],
   "source": [
    "array = awkward.fromiter([\n",
    "    [1,2,3,4.5],\n",
    "    [2.5, 7.1],\n",
    "    [8.8, 9.9, 23.4, 8.9]\n",
    "])"
   ]
  },
  {
   "cell_type": "code",
   "execution_count": 7,
   "metadata": {},
   "outputs": [],
   "source": [
    "array_sin = np.sin(array)\n",
    "array_cos = np.cos(array)"
   ]
  },
  {
   "cell_type": "code",
   "execution_count": 10,
   "metadata": {},
   "outputs": [],
   "source": [
    "arrays = dict(\n",
    "    orig=array,\n",
    "    sin=array_sin,\n",
    "    cos=array_cos\n",
    ")"
   ]
  },
  {
   "cell_type": "code",
   "execution_count": 11,
   "metadata": {},
   "outputs": [
    {
     "data": {
      "text/plain": [
       "{'orig': <JaggedArray [[1.0 2.0 3.0 4.5] [2.5 7.1] [8.8 9.9 23.4 8.9]] at 0x7f6605752d68>,\n",
       " 'sin': <JaggedArray [[0.8414709848078965 0.9092974268256817 0.1411200080598672 -0.977530117665097] [0.5984721441039565 0.7289690401258759] [0.5849171928917617 -0.45753589377532133 -0.9869155581206487 0.5010208564578846]] at 0x7f66056f0898>,\n",
       " 'cos': <JaggedArray [[0.5403023058681398 -0.4161468365471424 -0.9899924966004454 -0.2107957994307797] [-0.8011436155469337 0.6845466664428066] [-0.811093014061656 -0.8891911526253609 -0.16123796432418885 -0.8654352092411123]] at 0x7f66056f0860>}"
      ]
     },
     "execution_count": 11,
     "metadata": {},
     "output_type": "execute_result"
    }
   ],
   "source": [
    "arrays"
   ]
  },
  {
   "cell_type": "code",
   "execution_count": 12,
   "metadata": {},
   "outputs": [],
   "source": [
    "awkward.save('mytest', arrays, name='ff')"
   ]
  },
  {
   "cell_type": "code",
   "execution_count": 14,
   "metadata": {},
   "outputs": [],
   "source": [
    "readout = awkward.load('mytest.awkd')"
   ]
  },
  {
   "cell_type": "code",
   "execution_count": 17,
   "metadata": {},
   "outputs": [
    {
     "data": {
      "text/plain": [
       "['fforig', 'ffsin', 'ffcos']"
      ]
     },
     "execution_count": 17,
     "metadata": {},
     "output_type": "execute_result"
    }
   ],
   "source": [
    "list(readout.keys())"
   ]
  },
  {
   "cell_type": "code",
   "execution_count": 21,
   "metadata": {},
   "outputs": [
    {
     "name": "stdout",
     "output_type": "stream",
     "text": [
      "[[1.0 2.0 3.0 4.5] [2.5 7.1] [8.8 9.9 23.4 8.9]]\n",
      "[[0.8414709848078965 0.9092974268256817 0.1411200080598672 -0.977530117665097] [0.5984721441039565 0.7289690401258759] [0.5849171928917617 -0.45753589377532133 -0.9869155581206487 0.5010208564578846]]\n",
      "[[0.5403023058681398 -0.4161468365471424 -0.9899924966004454 -0.2107957994307797] [-0.8011436155469337 0.6845466664428066] [-0.811093014061656 -0.8891911526253609 -0.16123796432418885 -0.8654352092411123]]\n"
     ]
    }
   ],
   "source": [
    "print(*list(readout.values()), sep='\\n')"
   ]
  },
  {
   "cell_type": "code",
   "execution_count": 22,
   "metadata": {},
   "outputs": [],
   "source": [
    "arrays_plus = dict(\n",
    "    orig=array+1,\n",
    "    sin=array_sin+1,\n",
    "    cos=array_cos+1\n",
    ")"
   ]
  },
  {
   "cell_type": "code",
   "execution_count": 23,
   "metadata": {},
   "outputs": [
    {
     "data": {
      "text/plain": [
       "{'orig': <JaggedArray [[2.0 3.0 4.0 5.5] [3.5 8.1] [9.8 10.9 24.4 9.9]] at 0x7f66051e2588>,\n",
       " 'sin': <JaggedArray [[1.8414709848078965 1.9092974268256817 1.1411200080598671 0.02246988233490299] [1.5984721441039564 1.728969040125876] [1.5849171928917616 0.5424641062246787 0.013084441879351316 1.5010208564578846]] at 0x7f66051e25c0>,\n",
       " 'cos': <JaggedArray [[1.5403023058681398 0.5838531634528576 0.010007503399554585 0.7892042005692204] [0.1988563844530663 1.6845466664428066] [0.18890698593834399 0.11080884737463914 0.8387620356758112 0.13456479075888772]] at 0x7f66051e2208>}"
      ]
     },
     "execution_count": 23,
     "metadata": {},
     "output_type": "execute_result"
    }
   ],
   "source": [
    "arrays_plus"
   ]
  },
  {
   "cell_type": "code",
   "execution_count": 25,
   "metadata": {},
   "outputs": [
    {
     "ename": "AttributeError",
     "evalue": "'dict' object has no attribute 'name'",
     "output_type": "error",
     "traceback": [
      "\u001b[0;31m---------------------------------------------------------------------------\u001b[0m",
      "\u001b[0;31mAttributeError\u001b[0m                            Traceback (most recent call last)",
      "\u001b[0;32m~/nobackup/miniconda3/envs/ffAna/lib/python3.7/site-packages/IPython/core/formatters.py\u001b[0m in \u001b[0;36m__call__\u001b[0;34m(self, obj)\u001b[0m\n\u001b[1;32m    700\u001b[0m                 \u001b[0mtype_pprinters\u001b[0m\u001b[0;34m=\u001b[0m\u001b[0mself\u001b[0m\u001b[0;34m.\u001b[0m\u001b[0mtype_printers\u001b[0m\u001b[0;34m,\u001b[0m\u001b[0;34m\u001b[0m\u001b[0;34m\u001b[0m\u001b[0m\n\u001b[1;32m    701\u001b[0m                 deferred_pprinters=self.deferred_printers)\n\u001b[0;32m--> 702\u001b[0;31m             \u001b[0mprinter\u001b[0m\u001b[0;34m.\u001b[0m\u001b[0mpretty\u001b[0m\u001b[0;34m(\u001b[0m\u001b[0mobj\u001b[0m\u001b[0;34m)\u001b[0m\u001b[0;34m\u001b[0m\u001b[0;34m\u001b[0m\u001b[0m\n\u001b[0m\u001b[1;32m    703\u001b[0m             \u001b[0mprinter\u001b[0m\u001b[0;34m.\u001b[0m\u001b[0mflush\u001b[0m\u001b[0;34m(\u001b[0m\u001b[0;34m)\u001b[0m\u001b[0;34m\u001b[0m\u001b[0;34m\u001b[0m\u001b[0m\n\u001b[1;32m    704\u001b[0m             \u001b[0;32mreturn\u001b[0m \u001b[0mstream\u001b[0m\u001b[0;34m.\u001b[0m\u001b[0mgetvalue\u001b[0m\u001b[0;34m(\u001b[0m\u001b[0;34m)\u001b[0m\u001b[0;34m\u001b[0m\u001b[0;34m\u001b[0m\u001b[0m\n",
      "\u001b[0;32m~/nobackup/miniconda3/envs/ffAna/lib/python3.7/site-packages/IPython/lib/pretty.py\u001b[0m in \u001b[0;36mpretty\u001b[0;34m(self, obj)\u001b[0m\n\u001b[1;32m    400\u001b[0m                         \u001b[0;32mif\u001b[0m \u001b[0mcls\u001b[0m \u001b[0;32mis\u001b[0m \u001b[0;32mnot\u001b[0m \u001b[0mobject\u001b[0m\u001b[0;31m \u001b[0m\u001b[0;31m\\\u001b[0m\u001b[0;34m\u001b[0m\u001b[0;34m\u001b[0m\u001b[0m\n\u001b[1;32m    401\u001b[0m                                 \u001b[0;32mand\u001b[0m \u001b[0mcallable\u001b[0m\u001b[0;34m(\u001b[0m\u001b[0mcls\u001b[0m\u001b[0;34m.\u001b[0m\u001b[0m__dict__\u001b[0m\u001b[0;34m.\u001b[0m\u001b[0mget\u001b[0m\u001b[0;34m(\u001b[0m\u001b[0;34m'__repr__'\u001b[0m\u001b[0;34m)\u001b[0m\u001b[0;34m)\u001b[0m\u001b[0;34m:\u001b[0m\u001b[0;34m\u001b[0m\u001b[0;34m\u001b[0m\u001b[0m\n\u001b[0;32m--> 402\u001b[0;31m                             \u001b[0;32mreturn\u001b[0m \u001b[0m_repr_pprint\u001b[0m\u001b[0;34m(\u001b[0m\u001b[0mobj\u001b[0m\u001b[0;34m,\u001b[0m \u001b[0mself\u001b[0m\u001b[0;34m,\u001b[0m \u001b[0mcycle\u001b[0m\u001b[0;34m)\u001b[0m\u001b[0;34m\u001b[0m\u001b[0;34m\u001b[0m\u001b[0m\n\u001b[0m\u001b[1;32m    403\u001b[0m \u001b[0;34m\u001b[0m\u001b[0m\n\u001b[1;32m    404\u001b[0m             \u001b[0;32mreturn\u001b[0m \u001b[0m_default_pprint\u001b[0m\u001b[0;34m(\u001b[0m\u001b[0mobj\u001b[0m\u001b[0;34m,\u001b[0m \u001b[0mself\u001b[0m\u001b[0;34m,\u001b[0m \u001b[0mcycle\u001b[0m\u001b[0;34m)\u001b[0m\u001b[0;34m\u001b[0m\u001b[0;34m\u001b[0m\u001b[0m\n",
      "\u001b[0;32m~/nobackup/miniconda3/envs/ffAna/lib/python3.7/site-packages/IPython/lib/pretty.py\u001b[0m in \u001b[0;36m_repr_pprint\u001b[0;34m(obj, p, cycle)\u001b[0m\n\u001b[1;32m    695\u001b[0m     \u001b[0;34m\"\"\"A pprint that just redirects to the normal repr function.\"\"\"\u001b[0m\u001b[0;34m\u001b[0m\u001b[0;34m\u001b[0m\u001b[0m\n\u001b[1;32m    696\u001b[0m     \u001b[0;31m# Find newlines and replace them with p.break_()\u001b[0m\u001b[0;34m\u001b[0m\u001b[0;34m\u001b[0m\u001b[0;34m\u001b[0m\u001b[0m\n\u001b[0;32m--> 697\u001b[0;31m     \u001b[0moutput\u001b[0m \u001b[0;34m=\u001b[0m \u001b[0mrepr\u001b[0m\u001b[0;34m(\u001b[0m\u001b[0mobj\u001b[0m\u001b[0;34m)\u001b[0m\u001b[0;34m\u001b[0m\u001b[0;34m\u001b[0m\u001b[0m\n\u001b[0m\u001b[1;32m    698\u001b[0m     \u001b[0;32mfor\u001b[0m \u001b[0midx\u001b[0m\u001b[0;34m,\u001b[0m\u001b[0moutput_line\u001b[0m \u001b[0;32min\u001b[0m \u001b[0menumerate\u001b[0m\u001b[0;34m(\u001b[0m\u001b[0moutput\u001b[0m\u001b[0;34m.\u001b[0m\u001b[0msplitlines\u001b[0m\u001b[0;34m(\u001b[0m\u001b[0;34m)\u001b[0m\u001b[0;34m)\u001b[0m\u001b[0;34m:\u001b[0m\u001b[0;34m\u001b[0m\u001b[0;34m\u001b[0m\u001b[0m\n\u001b[1;32m    699\u001b[0m         \u001b[0;32mif\u001b[0m \u001b[0midx\u001b[0m\u001b[0;34m:\u001b[0m\u001b[0;34m\u001b[0m\u001b[0;34m\u001b[0m\u001b[0m\n",
      "\u001b[0;32m~/nobackup/miniconda3/envs/ffAna/lib/python3.7/site-packages/awkward/persist.py\u001b[0m in \u001b[0;36m__repr__\u001b[0;34m(self)\u001b[0m\n\u001b[1;32m    686\u001b[0m \u001b[0;34m\u001b[0m\u001b[0m\n\u001b[1;32m    687\u001b[0m     \u001b[0;32mdef\u001b[0m \u001b[0m__repr__\u001b[0m\u001b[0;34m(\u001b[0m\u001b[0mself\u001b[0m\u001b[0;34m)\u001b[0m\u001b[0;34m:\u001b[0m\u001b[0;34m\u001b[0m\u001b[0;34m\u001b[0m\u001b[0m\n\u001b[0;32m--> 688\u001b[0;31m         \u001b[0;32mreturn\u001b[0m \u001b[0;34m\"<awkward.hdf5 {0} ({1} members)>\"\u001b[0m\u001b[0;34m.\u001b[0m\u001b[0mformat\u001b[0m\u001b[0;34m(\u001b[0m\u001b[0mrepr\u001b[0m\u001b[0;34m(\u001b[0m\u001b[0mself\u001b[0m\u001b[0;34m.\u001b[0m\u001b[0m_group\u001b[0m\u001b[0;34m.\u001b[0m\u001b[0mg\u001b[0m\u001b[0;34m.\u001b[0m\u001b[0mname\u001b[0m\u001b[0;34m)\u001b[0m\u001b[0;34m,\u001b[0m \u001b[0mlen\u001b[0m\u001b[0;34m(\u001b[0m\u001b[0mself\u001b[0m\u001b[0;34m)\u001b[0m\u001b[0;34m)\u001b[0m\u001b[0;34m\u001b[0m\u001b[0;34m\u001b[0m\u001b[0m\n\u001b[0m",
      "\u001b[0;31mAttributeError\u001b[0m: 'dict' object has no attribute 'name'"
     ]
    }
   ],
   "source": [
    "awkward.hdf5(arrays)"
   ]
  },
  {
   "cell_type": "code",
   "execution_count": 1,
   "metadata": {},
   "outputs": [],
   "source": [
    "import utils.histoHelpers as uhh\n",
    "import utils.uprootHelpers as uuh\n",
    "from utils.SignalDescription import SignalDescription\n",
    "import numpy as np\n",
    "import mvatrain.preprocessors as mpp\n",
    "import importlib"
   ]
  },
  {
   "cell_type": "code",
   "execution_count": 2,
   "metadata": {},
   "outputs": [],
   "source": [
    "sd = SignalDescription()\n",
    "sfs_4mu = sd.files('4mu', grouped=False, nth=-1)"
   ]
  },
  {
   "cell_type": "code",
   "execution_count": 3,
   "metadata": {},
   "outputs": [
    {
     "data": {
      "text/plain": [
       "'root://cmseos.fnal.gov//eos/uscms/store/group/lpcmetx/MCSIDM/ffNtuple/2018/CRAB_PrivateMC/SIDM_BsTo2DpTo4Mu_MBs-100_MDp-0p25_ctau-18p75/190405_000651/0000/ffNtuple_1.root'"
      ]
     },
     "execution_count": 3,
     "metadata": {},
     "output_type": "execute_result"
    }
   ],
   "source": [
    "sfs_4mu[0]"
   ]
  },
  {
   "cell_type": "code",
   "execution_count": 4,
   "metadata": {},
   "outputs": [],
   "source": [
    "def match(obj):\n",
    "    genp4 = uuh.p4Array(obj.tree['gen_p4'])\n",
    "    mDarkPhoton = obj.tree['gen_pid'].array()==32\n",
    "    jetp4 = uuh.p4Array(obj.tree['pfjet_p4'])\n",
    "    mGendpMatch, mJetMatch = uuh.MaskArraysFromMatching(genp4[mDarkPhoton], jetp4)\n",
    "    return mJetMatch[obj.mHLT].flatten()\n",
    "\n",
    "def neutralEmEnerygFraction(obj):\n",
    "    t = obj.tree\n",
    "    jetp4 = uuh.p4Array(t['pfjet_p4'])\n",
    "    _res = (t['pfjet_neutralEmE'].array()+t['pfjet_neutralHadronE'].array())/jetp4.energy\n",
    "    return _res[obj.mHLT].flatten()\n",
    "    \n",
    "def pickExtreme(ja, maxmin):\n",
    "    _ja = np.abs(ja[~np.isnan(ja)])\n",
    "    if maxmin == 'max':\n",
    "        _res = _ja[_ja.argmax()]\n",
    "    if maxmin == 'min':\n",
    "        _res = _ja[_ja.argmin()]\n",
    "    cnts = _res.count()\n",
    "    res = np.array([0.]*len(_res), dtype='float32')\n",
    "    singletonIdx, zerotonIdx = np.where(cnts==1), np.where(cnts==0)\n",
    "    res[singletonIdx] = _res[singletonIdx]\n",
    "    res[zerotonIdx] = np.nan\n",
    "    return res\n",
    "\n",
    "def maxd0OfJet(obj):\n",
    "    t = obj.tree\n",
    "    candTkd0 = uuh.NestNestObjArrayToJagged(t['pfjet_pfcand_tkD0'].array())[obj.mHLT].flatten()\n",
    "    return pickExtreme(candTkd0, 'max')\n",
    "\n",
    "def mind0OfJet(obj):\n",
    "    t = obj.tree\n",
    "    candTkd0 = uuh.NestNestObjArrayToJagged(t['pfjet_pfcand_tkD0'].array())[obj.mHLT].flatten()\n",
    "    return pickExtreme(candTkd0, 'min')\n",
    "\n",
    "def getpt(obj):\n",
    "    return uuh.p4Array(obj.tree['pfjet_p4'])[obj.mHLT].pt.flatten()\n",
    "\n",
    "def geteta(obj):\n",
    "    return uuh.p4Array(obj.tree['pfjet_p4'])[obj.mHLT].eta.flatten()\n",
    "\n",
    "def gettkIso(obj):\n",
    "    return obj.tree['pfjet_tkIsolation'].array()[obj.mHLT].flatten()\n",
    "\n",
    "def getpfIso(obj):\n",
    "    return obj.tree['pfjet_pfIsolation'].array()[obj.mHLT].flatten()\n",
    "\n",
    "_pickmethods = {\n",
    "    'j_match': match,\n",
    "    'j_pt': getpt,\n",
    "    'j_eta': geteta,\n",
    "    'j_nef': neutralEmEnerygFraction,\n",
    "    'j_maxd0': maxd0OfJet,\n",
    "    'j_mind0': mind0OfJet,\n",
    "    'j_tkiso': gettkIso,\n",
    "    'j_pfiso': getpfIso,\n",
    "}"
   ]
  },
  {
   "cell_type": "code",
   "execution_count": 61,
   "metadata": {},
   "outputs": [],
   "source": [
    "p = ffPicker(sfs_4mu[0], pickmethods=_pickmethods)"
   ]
  },
  {
   "cell_type": "code",
   "execution_count": 62,
   "metadata": {},
   "outputs": [],
   "source": [
    "pickResult = p.pick()"
   ]
  },
  {
   "cell_type": "code",
   "execution_count": 63,
   "metadata": {},
   "outputs": [
    {
     "data": {
      "text/plain": [
       "{'j_match': array([ True,  True,  True, ...,  True,  True,  True]),\n",
       " 'j_pt': array([50.350803 , 35.145393 ,  6.9153905, ...,  6.7672257,  5.291464 ,\n",
       "         5.05025  ], dtype=float32),\n",
       " 'j_eta': array([-0.53674996,  1.1519103 ,  0.42891517, ..., -1.9098365 ,\n",
       "        -0.71814   , -0.08655441], dtype=float32),\n",
       " 'j_nef': array([0.03169854, 0.06634919, 1.        , ..., 0.09096105, 0.99999994,\n",
       "        1.        ], dtype=float32),\n",
       " 'j_maxd0': array([1.0172485 , 9.7470455 ,        nan, ..., 0.01551633,        nan,\n",
       "               nan], dtype=float32),\n",
       " 'j_mind0': array([1.0172485e+00, 3.5946052e+00,           nan, ..., 1.1463119e-03,\n",
       "                  nan,           nan], dtype=float32),\n",
       " 'j_tkiso': array([0.2006171 , 0.24901195, 1.        , ..., 0.6974016 , 1.        ,\n",
       "        1.        ], dtype=float32),\n",
       " 'j_pfiso': array([0.28458518, 0.43789557, 0.78197026, ..., 0.72970414, 0.8313656 ,\n",
       "        0.750592  ], dtype=float32)}"
      ]
     },
     "execution_count": 63,
     "metadata": {},
     "output_type": "execute_result"
    }
   ],
   "source": [
    "pickResult"
   ]
  },
  {
   "cell_type": "code",
   "execution_count": 64,
   "metadata": {},
   "outputs": [
    {
     "data": {
      "text/plain": [
       "[7426, 7426, 7426, 7426, 7426, 7426, 7426, 7426]"
      ]
     },
     "execution_count": 64,
     "metadata": {},
     "output_type": "execute_result"
    }
   ],
   "source": [
    "[a.size for a in pickResult.values()]"
   ]
  },
  {
   "cell_type": "code",
   "execution_count": 5,
   "metadata": {},
   "outputs": [],
   "source": [
    "mp = mpp.ffMultiPicker(sfs_4mu, pickmethods=_pickmethods)"
   ]
  },
  {
   "cell_type": "code",
   "execution_count": 6,
   "metadata": {},
   "outputs": [],
   "source": [
    "mPickResults = mp.pick()"
   ]
  },
  {
   "cell_type": "code",
   "execution_count": 7,
   "metadata": {},
   "outputs": [
    {
     "data": {
      "text/plain": [
       "[1112655, 1112655, 1112655, 1112655, 1112655, 1112655, 1112655, 1112655]"
      ]
     },
     "execution_count": 7,
     "metadata": {},
     "output_type": "execute_result"
    }
   ],
   "source": [
    "[a.size for a in mPickResults.values()]"
   ]
  },
  {
   "cell_type": "code",
   "execution_count": 10,
   "metadata": {},
   "outputs": [],
   "source": [
    "awkward.save('sig4mu.awkd', mPickResults, mode='w')"
   ]
  },
  {
   "cell_type": "code",
   "execution_count": 23,
   "metadata": {},
   "outputs": [],
   "source": [
    "pickresreadout = awkward.load('sig4mu.awkd')"
   ]
  },
  {
   "cell_type": "code",
   "execution_count": 28,
   "metadata": {},
   "outputs": [
    {
     "data": {
      "text/plain": [
       "1112655"
      ]
     },
     "execution_count": 28,
     "metadata": {},
     "output_type": "execute_result"
    }
   ],
   "source": [
    "pickresreadout['j_match'].size"
   ]
  },
  {
   "cell_type": "code",
   "execution_count": 2,
   "metadata": {},
   "outputs": [],
   "source": [
    "testarray = np.array([1,4,2])\n",
    "ta = np.array([1,4,np.nan])\n",
    "ta2 = np.array([])\n",
    "tja = awkward.fromiter([\n",
    "    [1,2,3,4.5],\n",
    "    [2.5, 7.1],\n",
    "    [],\n",
    "    [8.8, 9.9, 23.4, 8.9]\n",
    "])"
   ]
  },
  {
   "cell_type": "code",
   "execution_count": 20,
   "metadata": {},
   "outputs": [
    {
     "name": "stdout",
     "output_type": "stream",
     "text": [
      "<JaggedArray [[1.0 2.0 3.0 4.5] [2.5 7.1] [] [8.8 9.9 23.4 8.9]] at 0x7fcc04904390>\n"
     ]
    }
   ],
   "source": [
    "print(repr(tja))"
   ]
  },
  {
   "cell_type": "code",
   "execution_count": 6,
   "metadata": {},
   "outputs": [],
   "source": [
    "tjaidx = awkward.fromiter([[0], [0], [], [0]])"
   ]
  },
  {
   "cell_type": "code",
   "execution_count": 8,
   "metadata": {},
   "outputs": [],
   "source": [
    "tjaidx2 = awkward.fromiter([[], [], [], []])"
   ]
  },
  {
   "cell_type": "code",
   "execution_count": 21,
   "metadata": {},
   "outputs": [],
   "source": [
    "emptyja = awkward.fromiter([])"
   ]
  },
  {
   "cell_type": "code",
   "execution_count": 22,
   "metadata": {},
   "outputs": [
    {
     "data": {
      "text/plain": [
       "array([], dtype=float64)"
      ]
     },
     "execution_count": 22,
     "metadata": {},
     "output_type": "execute_result"
    }
   ],
   "source": [
    "emptyja"
   ]
  },
  {
   "cell_type": "code",
   "execution_count": 17,
   "metadata": {},
   "outputs": [
    {
     "data": {
      "text/plain": [
       "4"
      ]
     },
     "execution_count": 17,
     "metadata": {},
     "output_type": "execute_result"
    }
   ],
   "source": [
    "tjaidx2.size"
   ]
  },
  {
   "cell_type": "code",
   "execution_count": 9,
   "metadata": {},
   "outputs": [
    {
     "ename": "TypeError",
     "evalue": "jagged index must be boolean (mask) or integer (fancy indexing)",
     "output_type": "error",
     "traceback": [
      "\u001b[0;31m---------------------------------------------------------------------------\u001b[0m",
      "\u001b[0;31mTypeError\u001b[0m                                 Traceback (most recent call last)",
      "\u001b[0;32m<ipython-input-9-dbeace6fe42c>\u001b[0m in \u001b[0;36m<module>\u001b[0;34m\u001b[0m\n\u001b[0;32m----> 1\u001b[0;31m \u001b[0mtja\u001b[0m\u001b[0;34m[\u001b[0m\u001b[0mtjaidx2\u001b[0m\u001b[0;34m]\u001b[0m\u001b[0;34m\u001b[0m\u001b[0;34m\u001b[0m\u001b[0m\n\u001b[0m",
      "\u001b[0;32m~/nobackup/miniconda3/envs/ffAna/lib/python3.7/site-packages/awkward/array/jagged.py\u001b[0m in \u001b[0;36m__getitem__\u001b[0;34m(self, where)\u001b[0m\n\u001b[1;32m    570\u001b[0m \u001b[0;34m\u001b[0m\u001b[0m\n\u001b[1;32m    571\u001b[0m             \u001b[0;32melse\u001b[0m\u001b[0;34m:\u001b[0m\u001b[0;34m\u001b[0m\u001b[0;34m\u001b[0m\u001b[0m\n\u001b[0;32m--> 572\u001b[0;31m                 \u001b[0;32mraise\u001b[0m \u001b[0mTypeError\u001b[0m\u001b[0;34m(\u001b[0m\u001b[0;34m\"jagged index must be boolean (mask) or integer (fancy indexing)\"\u001b[0m\u001b[0;34m)\u001b[0m\u001b[0;34m\u001b[0m\u001b[0;34m\u001b[0m\u001b[0m\n\u001b[0m\u001b[1;32m    573\u001b[0m \u001b[0;34m\u001b[0m\u001b[0m\n\u001b[1;32m    574\u001b[0m         \u001b[0;32melse\u001b[0m\u001b[0;34m:\u001b[0m\u001b[0;34m\u001b[0m\u001b[0;34m\u001b[0m\u001b[0m\n",
      "\u001b[0;31mTypeError\u001b[0m: jagged index must be boolean (mask) or integer (fancy indexing)"
     ]
    }
   ],
   "source": [
    "tja[tjaidx2]"
   ]
  },
  {
   "cell_type": "code",
   "execution_count": 35,
   "metadata": {},
   "outputs": [
    {
     "data": {
      "text/plain": [
       "<JaggedArray [[4.5] [7.1] [] [23.4]] at 0x7f8dd57f6470>"
      ]
     },
     "execution_count": 35,
     "metadata": {},
     "output_type": "execute_result"
    }
   ],
   "source": [
    "mv"
   ]
  },
  {
   "cell_type": "code",
   "execution_count": 40,
   "metadata": {},
   "outputs": [],
   "source": [
    "cnts = mv.count()"
   ]
  },
  {
   "cell_type": "code",
   "execution_count": 51,
   "metadata": {},
   "outputs": [],
   "source": [
    "res = np.array([0.]*len(mv), dtype='float32')"
   ]
  },
  {
   "cell_type": "code",
   "execution_count": 43,
   "metadata": {},
   "outputs": [],
   "source": [
    "trueidx, falseidx = np.where(cnts==1), np.where(cnts==0)"
   ]
  },
  {
   "cell_type": "code",
   "execution_count": 55,
   "metadata": {},
   "outputs": [],
   "source": [
    "res[trueidx] = mv[trueidx]\n",
    "res[falseidx] = np.nan"
   ]
  },
  {
   "cell_type": "code",
   "execution_count": 67,
   "metadata": {},
   "outputs": [],
   "source": [
    "arr1 = np.array(range(5))\n",
    "arr2 = np.array(range(3))\n",
    "arr3 = np.array(range(4))"
   ]
  },
  {
   "cell_type": "code",
   "execution_count": 68,
   "metadata": {},
   "outputs": [
    {
     "data": {
      "text/plain": [
       "array([0, 1, 2, 3, 4, 0, 1, 2, 0, 1, 2, 3])"
      ]
     },
     "execution_count": 68,
     "metadata": {},
     "output_type": "execute_result"
    }
   ],
   "source": [
    "np.concatenate([arr1, arr2, arr3])"
   ]
  },
  {
   "cell_type": "code",
   "execution_count": null,
   "metadata": {},
   "outputs": [],
   "source": []
  }
 ],
 "metadata": {
  "kernelspec": {
   "display_name": "Python 3",
   "language": "python",
   "name": "python3"
  },
  "language_info": {
   "codemirror_mode": {
    "name": "ipython",
    "version": 3
   },
   "file_extension": ".py",
   "mimetype": "text/x-python",
   "name": "python",
   "nbconvert_exporter": "python",
   "pygments_lexer": "ipython3",
   "version": "3.7.1"
  }
 },
 "nbformat": 4,
 "nbformat_minor": 2
}

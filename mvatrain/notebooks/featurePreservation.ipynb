{
 "cells": [
  {
   "cell_type": "markdown",
   "metadata": {
    "toc": true
   },
   "source": [
    "<h1>Table of Contents<span class=\"tocSkip\"></span></h1>\n",
    "<div class=\"toc\"><ul class=\"toc-item\"><li><span><a href=\"#signal\" data-toc-modified-id=\"signal-1\">signal</a></span></li><li><span><a href=\"#background\" data-toc-modified-id=\"background-2\">background</a></span></li><li><span><a href=\"#combine-together\" data-toc-modified-id=\"combine-together-3\">combine together</a></span></li></ul></div>"
   ]
  },
  {
   "cell_type": "markdown",
   "metadata": {},
   "source": [
    "Preserve features which have power to discriminate signal from background.\n",
    "\n",
    "Taken from ./DiscriminateVariables.ipynb\n",
    "Shape comparisons are plotted there."
   ]
  },
  {
   "cell_type": "code",
   "execution_count": 1,
   "metadata": {},
   "outputs": [],
   "source": [
    "import utils.histoHelpers as uhh\n",
    "import utils.uprootHelpers as uuh\n",
    "import mvatrain.preprocessors as mpp\n",
    "from utils.SignalDescription import SignalDescription\n",
    "from utils.BackgroundDescription import BackgroundDescription\n",
    "\n",
    "import numpy as np\n",
    "import awkward"
   ]
  },
  {
   "cell_type": "markdown",
   "metadata": {},
   "source": [
    "# signal"
   ]
  },
  {
   "cell_type": "code",
   "execution_count": 2,
   "metadata": {},
   "outputs": [],
   "source": [
    "sd = SignalDescription()\n",
    "sig4mu = sd.files('4mu', grouped=True, nth=-1)\n",
    "sig2mu2e = sd.files('2mu2e', grouped=True, nth=-1)\n",
    "\n",
    "sigfs4mu   = [f for x in sig4mu.values() for f in x]\n",
    "sigfs2mu2e = [f for x in sig2mu2e.values() for f in x]"
   ]
  },
  {
   "cell_type": "code",
   "execution_count": 15,
   "metadata": {},
   "outputs": [],
   "source": [
    "def match(obj):\n",
    "    t = obj.tree\n",
    "    genp4 = uuh.p4Array(t['gen_p4'])\n",
    "    mDarkPhoton = t['gen_pid'].array()==32\n",
    "    jetp4 = uuh.p4Array(t['pfjet_p4'])\n",
    "    mGendpMatch, mJetMatch = uuh.MaskArraysFromMatching(genp4[mDarkPhoton], jetp4)\n",
    "    res = mJetMatch[obj.mHLT].flatten()\n",
    "    return res\n",
    "\n",
    "def pt(obj):\n",
    "    t = obj.tree\n",
    "    return uuh.p4Array(t['pfjet_p4'])[obj.mHLT].pt.flatten()\n",
    "\n",
    "def eta(obj):\n",
    "    t = obj.tree\n",
    "    return uuh.p4Array(t['pfjet_p4'])[obj.mHLT].eta.flatten()\n",
    "\n",
    "def neutralEnergyFrac(obj):\n",
    "    t = obj.tree\n",
    "    jetp4 = uuh.p4Array(t['pfjet_p4'])\n",
    "    _res = (\n",
    "        t['pfjet_neutralEmE'].array()\n",
    "        +t['pfjet_neutralHadronE'].array()\n",
    "    )/jetp4.energy\n",
    "    return _res[obj.mHLT].flatten()\n",
    "\n",
    "def pickExtreme(ja, maxmin):\n",
    "    if ja.size==0: return np.array([])\n",
    "    _ja = np.abs(ja[~np.isnan(ja)])\n",
    "    if _ja.size==0: return np.array([])\n",
    "    if maxmin == 'max':\n",
    "        _res = _ja[_ja.argmax()]\n",
    "    if maxmin == 'min':\n",
    "        _res = _ja[_ja.argmin()]\n",
    "    cnts = _res.count()\n",
    "    res = np.array([0.]*len(_res), dtype='float32')\n",
    "    singletonIdx, zerotonIdx = np.where(cnts==1), np.where(cnts==0)\n",
    "    res[singletonIdx] = _res[singletonIdx]\n",
    "    res[zerotonIdx] = np.nan\n",
    "    return res\n",
    "\n",
    "def maxd0(obj):\n",
    "    t = obj.tree\n",
    "    candTkd0 = uuh.NestNestObjArrayToJagged(t['pfjet_pfcand_tkD0'].array())[obj.mHLT].flatten()\n",
    "    return pickExtreme(candTkd0, 'max')\n",
    "\n",
    "def mind0(obj):\n",
    "    t = obj.tree\n",
    "    candTkd0 = uuh.NestNestObjArrayToJagged(t['pfjet_pfcand_tkD0'].array())[obj.mHLT].flatten()\n",
    "    return pickExtreme(candTkd0, 'min')\n",
    "\n",
    "def tkiso(obj):\n",
    "    return obj.tree['pfjet_tkIsolation05'].array()[obj.mHLT].flatten()\n",
    "\n",
    "def pfiso(obj):\n",
    "    return obj.tree['pfjet_pfIsolation05'].array()[obj.mHLT].flatten()\n",
    "\n",
    "def ptspread(obj):\n",
    "    return obj.tree['pfjet_ptDistribution'].array()[obj.mHLT].flatten()\n",
    "\n",
    "def drspread(obj):\n",
    "    return obj.tree['pfjet_dRSpread'].array()[obj.mHLT].flatten()\n",
    "\n",
    "def jetsub_lambda(obj):\n",
    "    return obj.tree['pfjet_subjet_lambda'].array()[obj.mHLT].flatten()\n",
    "\n",
    "def jetsub_epsilon(obj):\n",
    "    return obj.tree['pfjet_subjet_epsilon'].array()[obj.mHLT].flatten()\n",
    "\n",
    "def ecf1(obj):\n",
    "    return obj.tree['pfjet_subjet_ecf1'].array()[obj.mHLT].flatten()\n",
    "\n",
    "def ecf2(obj):\n",
    "    return obj.tree['pfjet_subjet_ecf2'].array()[obj.mHLT].flatten()\n",
    "\n",
    "def ecf3(obj):\n",
    "    return obj.tree['pfjet_subjet_ecf3'].array()[obj.mHLT].flatten()\n",
    "\n",
    "# ------------------"
   ]
  },
  {
   "cell_type": "code",
   "execution_count": 4,
   "metadata": {},
   "outputs": [],
   "source": [
    "_pm = {\n",
    "    'target': match,\n",
    "    'pt': pt,\n",
    "    'eta': eta,\n",
    "    'neufrac': neutralEnergyFrac,\n",
    "    'maxd0': maxd0,\n",
    "    'mind0': mind0,\n",
    "    'tkiso': tkiso,\n",
    "    'pfiso': pfiso,\n",
    "    'spreadpt': ptspread,\n",
    "    'spreaddr': drspread,\n",
    "    'lambda': jetsub_lambda,\n",
    "    'epsilon': jetsub_epsilon,\n",
    "    'ecf1': ecf1,\n",
    "    'ecf2': ecf2,\n",
    "    'ecf3': ecf3,\n",
    "}"
   ]
  },
  {
   "cell_type": "code",
   "execution_count": 5,
   "metadata": {},
   "outputs": [],
   "source": [
    "mp = mpp.ffMultiPicker(sigfs4mu+sigfs2mu2e, pickmethods=_pm)"
   ]
  },
  {
   "cell_type": "code",
   "execution_count": 6,
   "metadata": {},
   "outputs": [],
   "source": [
    "mp_res = mp.pick()"
   ]
  },
  {
   "cell_type": "code",
   "execution_count": 7,
   "metadata": {},
   "outputs": [
    {
     "data": {
      "text/plain": [
       "[295891,\n",
       " 295891,\n",
       " 295891,\n",
       " 295891,\n",
       " 295891,\n",
       " 295891,\n",
       " 295891,\n",
       " 295891,\n",
       " 295891,\n",
       " 295891,\n",
       " 295891,\n",
       " 295891,\n",
       " 295891,\n",
       " 295891,\n",
       " 295891]"
      ]
     },
     "execution_count": 7,
     "metadata": {},
     "output_type": "execute_result"
    }
   ],
   "source": [
    "[a.size for a in mp_res.values()]"
   ]
  },
  {
   "cell_type": "code",
   "execution_count": 8,
   "metadata": {},
   "outputs": [],
   "source": [
    "awkward.save('data/signal_190513.awkd', mp_res, mode='w')"
   ]
  },
  {
   "cell_type": "code",
   "execution_count": 9,
   "metadata": {},
   "outputs": [
    {
     "data": {
      "text/plain": [
       "(array([False,  True]), array([ 46991, 248900]))"
      ]
     },
     "execution_count": 9,
     "metadata": {},
     "output_type": "execute_result"
    }
   ],
   "source": [
    "np.unique(mp_res['target'], return_counts=True)"
   ]
  },
  {
   "cell_type": "markdown",
   "metadata": {},
   "source": [
    "----"
   ]
  },
  {
   "cell_type": "markdown",
   "metadata": {},
   "source": [
    "# background"
   ]
  },
  {
   "cell_type": "code",
   "execution_count": 10,
   "metadata": {},
   "outputs": [],
   "source": [
    "bd = BackgroundDescription()\n",
    "bkgfs = bd.getTotalFiles()"
   ]
  },
  {
   "cell_type": "code",
   "execution_count": 16,
   "metadata": {},
   "outputs": [],
   "source": [
    "_pm = {\n",
    "    'pt': pt,\n",
    "    'eta': eta,\n",
    "    'neufrac': neutralEnergyFrac,\n",
    "    'maxd0': maxd0,\n",
    "    'mind0': mind0,\n",
    "    'tkiso': tkiso,\n",
    "    'pfiso': pfiso,\n",
    "    'spreadpt': ptspread,\n",
    "    'spreaddr': drspread,\n",
    "    'lambda': jetsub_lambda,\n",
    "    'epsilon': jetsub_epsilon,\n",
    "    'ecf1': ecf1,\n",
    "    'ecf2': ecf2,\n",
    "    'ecf3': ecf3,\n",
    "}"
   ]
  },
  {
   "cell_type": "code",
   "execution_count": 20,
   "metadata": {},
   "outputs": [
    {
     "data": {
      "text/plain": [
       "<module 'mvatrain.preprocessors' from '/uscms/home/wsi/nobackup/lpcdm/ffAna/mvatrain/preprocessors.py'>"
      ]
     },
     "execution_count": 20,
     "metadata": {},
     "output_type": "execute_result"
    }
   ],
   "source": [
    "import importlib\n",
    "importlib.reload(mpp)"
   ]
  },
  {
   "cell_type": "code",
   "execution_count": 21,
   "metadata": {},
   "outputs": [],
   "source": [
    "mp = mpp.ffMultiPicker(bkgfs, pickmethods=_pm)"
   ]
  },
  {
   "cell_type": "code",
   "execution_count": 22,
   "metadata": {},
   "outputs": [
    {
     "name": "stdout",
     "output_type": "stream",
     "text": [
      "=========================================\n",
      "Exception occured in ffMultiPicker.pick()\n",
      "File:  root://cmseos.fnal.gov//eos/uscms/store/group/lpcmetx/MCSIDM/ffNtuple/2018/QCD_Pt-20to30_MuEnrichedPt5_TuneCP5_13TeV_pythia8/RunIIAutumn18DRPremix-102X_upgrade2018_realistic_v15-v4/190508_203602/0000/ffNtuple_1.root\n",
      "Msg:  zero-size array to reduction operation maximum which has no identity\n",
      "=========================================\n",
      "=========================================\n",
      "Exception occured in ffMultiPicker.pick()\n",
      "File:  root://cmseos.fnal.gov//eos/uscms/store/group/lpcmetx/MCSIDM/ffNtuple/2018/QCD_Pt-20to30_MuEnrichedPt5_TuneCP5_13TeV_pythia8/RunIIAutumn18DRPremix-102X_upgrade2018_realistic_v15-v4/190508_203602/0000/ffNtuple_106.root\n",
      "Msg:  zero-size array to reduction operation maximum which has no identity\n",
      "=========================================\n",
      "=========================================\n",
      "Exception occured in ffMultiPicker.pick()\n",
      "File:  root://cmseos.fnal.gov//eos/uscms/store/group/lpcmetx/MCSIDM/ffNtuple/2018/QCD_Pt-20to30_MuEnrichedPt5_TuneCP5_13TeV_pythia8/RunIIAutumn18DRPremix-102X_upgrade2018_realistic_v15-v4/190508_203602/0000/ffNtuple_143.root\n",
      "Msg:  zero-size array to reduction operation maximum which has no identity\n",
      "=========================================\n",
      "=========================================\n",
      "Exception occured in ffMultiPicker.pick()\n",
      "File:  root://cmseos.fnal.gov//eos/uscms/store/group/lpcmetx/MCSIDM/ffNtuple/2018/QCD_Pt-20to30_MuEnrichedPt5_TuneCP5_13TeV_pythia8/RunIIAutumn18DRPremix-102X_upgrade2018_realistic_v15-v4/190508_203602/0000/ffNtuple_6.root\n",
      "Msg:  zero-size array to reduction operation maximum which has no identity\n",
      "=========================================\n",
      "=========================================\n",
      "Exception occured in ffMultiPicker.pick()\n",
      "File:  root://cmseos.fnal.gov//eos/uscms/store/group/lpcmetx/MCSIDM/ffNtuple/2018/QCD_Pt-20to30_MuEnrichedPt5_TuneCP5_13TeV_pythia8/RunIIAutumn18DRPremix-102X_upgrade2018_realistic_v15-v4/190508_203602/0000/ffNtuple_68.root\n",
      "Msg:  zero-size array to reduction operation maximum which has no identity\n",
      "=========================================\n",
      "=========================================\n",
      "Exception occured in ffMultiPicker.pick()\n",
      "File:  root://cmseos.fnal.gov//eos/uscms/store/group/lpcmetx/MCSIDM/ffNtuple/2018/QCD_Pt-20to30_MuEnrichedPt5_TuneCP5_13TeV_pythia8/RunIIAutumn18DRPremix-102X_upgrade2018_realistic_v15-v4/190508_203602/0000/ffNtuple_79.root\n",
      "Msg:  zero-size array to reduction operation maximum which has no identity\n",
      "=========================================\n",
      "=========================================\n",
      "Exception occured in ffMultiPicker.pick()\n",
      "File:  root://cmseos.fnal.gov//eos/uscms/store/group/lpcmetx/MCSIDM/ffNtuple/2018/QCD_Pt-20to30_MuEnrichedPt5_TuneCP5_13TeV_pythia8/RunIIAutumn18DRPremix-102X_upgrade2018_realistic_v15-v4/190508_203602/0000/ffNtuple_97.root\n",
      "Msg:  zero-size array to reduction operation maximum which has no identity\n",
      "=========================================\n"
     ]
    }
   ],
   "source": [
    "mp_res = mp.pick()"
   ]
  },
  {
   "cell_type": "code",
   "execution_count": 23,
   "metadata": {},
   "outputs": [
    {
     "data": {
      "text/plain": [
       "[2577372,\n",
       " 2577372,\n",
       " 2577372,\n",
       " 2577372,\n",
       " 2577372,\n",
       " 2577372,\n",
       " 2577372,\n",
       " 2577372,\n",
       " 2577372,\n",
       " 2577372,\n",
       " 2577372,\n",
       " 2577372,\n",
       " 2577372,\n",
       " 2577372]"
      ]
     },
     "execution_count": 23,
     "metadata": {},
     "output_type": "execute_result"
    }
   ],
   "source": [
    "[a.size for a in mp_res.values()]"
   ]
  },
  {
   "cell_type": "code",
   "execution_count": 24,
   "metadata": {},
   "outputs": [],
   "source": [
    "target_ = np.zeros(len(mp_res['pt']), dtype=bool)"
   ]
  },
  {
   "cell_type": "code",
   "execution_count": 25,
   "metadata": {},
   "outputs": [],
   "source": [
    "mp_res['target'] = target_"
   ]
  },
  {
   "cell_type": "code",
   "execution_count": 26,
   "metadata": {},
   "outputs": [],
   "source": [
    "awkward.save('data/bkg_190513.awkd', mp_res, mode='w')"
   ]
  },
  {
   "cell_type": "markdown",
   "metadata": {},
   "source": [
    "----"
   ]
  },
  {
   "cell_type": "markdown",
   "metadata": {},
   "source": [
    "# combine together"
   ]
  },
  {
   "cell_type": "code",
   "execution_count": 27,
   "metadata": {},
   "outputs": [],
   "source": [
    "sig = awkward.load('data/signal_190513.awkd')\n",
    "bkg = awkward.load('data/bkg_190513.awkd')"
   ]
  },
  {
   "cell_type": "code",
   "execution_count": 28,
   "metadata": {},
   "outputs": [],
   "source": [
    "combo_ = dict()\n",
    "for k in sig.keys():\n",
    "    combo_[k] = np.concatenate([sig[k], bkg[k]])"
   ]
  },
  {
   "cell_type": "code",
   "execution_count": 29,
   "metadata": {},
   "outputs": [
    {
     "data": {
      "text/plain": [
       "[2873263,\n",
       " 2873263,\n",
       " 2873263,\n",
       " 2873263,\n",
       " 2873263,\n",
       " 2873263,\n",
       " 2873263,\n",
       " 2873263,\n",
       " 2873263,\n",
       " 2873263,\n",
       " 2873263,\n",
       " 2873263,\n",
       " 2873263,\n",
       " 2873263,\n",
       " 2873263]"
      ]
     },
     "execution_count": 29,
     "metadata": {},
     "output_type": "execute_result"
    }
   ],
   "source": [
    "[a.size for a in combo_.values()]"
   ]
  },
  {
   "cell_type": "code",
   "execution_count": 30,
   "metadata": {},
   "outputs": [],
   "source": [
    "awkward.save('data/combo_190513.awkd', combo_, mode='w')"
   ]
  },
  {
   "cell_type": "markdown",
   "metadata": {},
   "source": [
    "----"
   ]
  }
 ],
 "metadata": {
  "kernelspec": {
   "display_name": "Python 3",
   "language": "python",
   "name": "python3"
  },
  "language_info": {
   "codemirror_mode": {
    "name": "ipython",
    "version": 3
   },
   "file_extension": ".py",
   "mimetype": "text/x-python",
   "name": "python",
   "nbconvert_exporter": "python",
   "pygments_lexer": "ipython3",
   "version": "3.7.1"
  },
  "toc": {
   "base_numbering": 1,
   "nav_menu": {},
   "number_sections": false,
   "sideBar": true,
   "skip_h1_title": false,
   "title_cell": "Table of Contents",
   "title_sidebar": "Contents",
   "toc_cell": true,
   "toc_position": {},
   "toc_section_display": true,
   "toc_window_display": false
  }
 },
 "nbformat": 4,
 "nbformat_minor": 2
}
